{
 "cells": [
  {
   "cell_type": "code",
   "execution_count": 0,
   "metadata": {
    "colab": {
     "base_uri": "https://localhost:8080/",
     "height": 580
    },
    "colab_type": "code",
    "executionInfo": {
     "elapsed": 9789,
     "status": "ok",
     "timestamp": 1589129113737,
     "user": {
      "displayName": "_다혜",
      "photoUrl": "",
      "userId": "18431115278543745258"
     },
     "user_tz": -540
    },
    "id": "oOhpP8BaPICY",
    "outputId": "ca4969b8-dfff-4d79-8680-5a7d3dc28260"
   },
   "outputs": [
    {
     "name": "stdout",
     "output_type": "stream",
     "text": [
      "Collecting konlpy\n",
      "\u001b[?25l  Downloading https://files.pythonhosted.org/packages/85/0e/f385566fec837c0b83f216b2da65db9997b35dd675e107752005b7d392b1/konlpy-0.5.2-py2.py3-none-any.whl (19.4MB)\n",
      "\u001b[K     |████████████████████████████████| 19.4MB 1.2MB/s \n",
      "\u001b[?25hCollecting colorama\n",
      "  Downloading https://files.pythonhosted.org/packages/c9/dc/45cdef1b4d119eb96316b3117e6d5708a08029992b2fee2c143c7a0a5cc5/colorama-0.4.3-py2.py3-none-any.whl\n",
      "Requirement already satisfied: numpy>=1.6 in /usr/local/lib/python3.6/dist-packages (from konlpy) (1.18.4)\n",
      "Requirement already satisfied: lxml>=4.1.0 in /usr/local/lib/python3.6/dist-packages (from konlpy) (4.2.6)\n",
      "Collecting JPype1>=0.7.0\n",
      "\u001b[?25l  Downloading https://files.pythonhosted.org/packages/ee/99/7c79cb6801b57fc6dfc7033d9c4c00e0d2892df3b903ff6c269fb76c8442/JPype1-0.7.4-cp36-cp36m-manylinux1_x86_64.whl (2.9MB)\n",
      "\u001b[K     |████████████████████████████████| 2.9MB 61.4MB/s \n",
      "\u001b[?25hCollecting beautifulsoup4==4.6.0\n",
      "\u001b[?25l  Downloading https://files.pythonhosted.org/packages/9e/d4/10f46e5cfac773e22707237bfcd51bbffeaf0a576b0a847ec7ab15bd7ace/beautifulsoup4-4.6.0-py3-none-any.whl (86kB)\n",
      "\u001b[K     |████████████████████████████████| 92kB 10.2MB/s \n",
      "\u001b[?25hCollecting tweepy>=3.7.0\n",
      "  Downloading https://files.pythonhosted.org/packages/36/1b/2bd38043d22ade352fc3d3902cf30ce0e2f4bf285be3b304a2782a767aec/tweepy-3.8.0-py2.py3-none-any.whl\n",
      "Requirement already satisfied: requests>=2.11.1 in /usr/local/lib/python3.6/dist-packages (from tweepy>=3.7.0->konlpy) (2.23.0)\n",
      "Requirement already satisfied: requests-oauthlib>=0.7.0 in /usr/local/lib/python3.6/dist-packages (from tweepy>=3.7.0->konlpy) (1.3.0)\n",
      "Requirement already satisfied: PySocks>=1.5.7 in /usr/local/lib/python3.6/dist-packages (from tweepy>=3.7.0->konlpy) (1.7.1)\n",
      "Requirement already satisfied: six>=1.10.0 in /usr/local/lib/python3.6/dist-packages (from tweepy>=3.7.0->konlpy) (1.12.0)\n",
      "Requirement already satisfied: certifi>=2017.4.17 in /usr/local/lib/python3.6/dist-packages (from requests>=2.11.1->tweepy>=3.7.0->konlpy) (2020.4.5.1)\n",
      "Requirement already satisfied: urllib3!=1.25.0,!=1.25.1,<1.26,>=1.21.1 in /usr/local/lib/python3.6/dist-packages (from requests>=2.11.1->tweepy>=3.7.0->konlpy) (1.24.3)\n",
      "Requirement already satisfied: idna<3,>=2.5 in /usr/local/lib/python3.6/dist-packages (from requests>=2.11.1->tweepy>=3.7.0->konlpy) (2.9)\n",
      "Requirement already satisfied: chardet<4,>=3.0.2 in /usr/local/lib/python3.6/dist-packages (from requests>=2.11.1->tweepy>=3.7.0->konlpy) (3.0.4)\n",
      "Requirement already satisfied: oauthlib>=3.0.0 in /usr/local/lib/python3.6/dist-packages (from requests-oauthlib>=0.7.0->tweepy>=3.7.0->konlpy) (3.1.0)\n",
      "Installing collected packages: colorama, JPype1, beautifulsoup4, tweepy, konlpy\n",
      "  Found existing installation: beautifulsoup4 4.6.3\n",
      "    Uninstalling beautifulsoup4-4.6.3:\n",
      "      Successfully uninstalled beautifulsoup4-4.6.3\n",
      "  Found existing installation: tweepy 3.6.0\n",
      "    Uninstalling tweepy-3.6.0:\n",
      "      Successfully uninstalled tweepy-3.6.0\n",
      "Successfully installed JPype1-0.7.4 beautifulsoup4-4.6.0 colorama-0.4.3 konlpy-0.5.2 tweepy-3.8.0\n"
     ]
    }
   ],
   "source": [
    "!pip install konlpy"
   ]
  },
  {
   "cell_type": "code",
   "execution_count": 0,
   "metadata": {
    "colab": {
     "base_uri": "https://localhost:8080/",
     "height": 158
    },
    "colab_type": "code",
    "executionInfo": {
     "elapsed": 11378,
     "status": "ok",
     "timestamp": 1589129178939,
     "user": {
      "displayName": "_다혜",
      "photoUrl": "",
      "userId": "18431115278543745258"
     },
     "user_tz": -540
    },
    "id": "G5liGd_unqrf",
    "outputId": "05b97e90-76b3-4b17-ff35-f709ad90cdfc"
   },
   "outputs": [
    {
     "name": "stdout",
     "output_type": "stream",
     "text": [
      "Collecting jpype1==0.7.0\n",
      "\u001b[?25l  Downloading https://files.pythonhosted.org/packages/07/09/e19ce27d41d4f66d73ac5b6c6a188c51b506f56c7bfbe6c1491db2d15995/JPype1-0.7.0-cp36-cp36m-manylinux2010_x86_64.whl (2.7MB)\n",
      "\r",
      "\u001b[K     |▏                               | 10kB 17.8MB/s eta 0:00:01\r",
      "\u001b[K     |▎                               | 20kB 2.2MB/s eta 0:00:02\r",
      "\u001b[K     |▍                               | 30kB 2.8MB/s eta 0:00:01\r",
      "\u001b[K     |▌                               | 40kB 2.0MB/s eta 0:00:02\r",
      "\u001b[K     |▋                               | 51kB 2.3MB/s eta 0:00:02\r",
      "\u001b[K     |▊                               | 61kB 2.8MB/s eta 0:00:01\r",
      "\u001b[K     |▉                               | 71kB 3.0MB/s eta 0:00:01\r",
      "\u001b[K     |█                               | 81kB 3.2MB/s eta 0:00:01\r",
      "\u001b[K     |█                               | 92kB 3.6MB/s eta 0:00:01\r",
      "\u001b[K     |█▏                              | 102kB 3.3MB/s eta 0:00:01\r",
      "\u001b[K     |█▎                              | 112kB 3.3MB/s eta 0:00:01\r",
      "\u001b[K     |█▍                              | 122kB 3.3MB/s eta 0:00:01\r",
      "\u001b[K     |█▌                              | 133kB 3.3MB/s eta 0:00:01\r",
      "\u001b[K     |█▊                              | 143kB 3.3MB/s eta 0:00:01\r",
      "\u001b[K     |█▉                              | 153kB 3.3MB/s eta 0:00:01\r",
      "\u001b[K     |██                              | 163kB 3.3MB/s eta 0:00:01\r",
      "\u001b[K     |██                              | 174kB 3.3MB/s eta 0:00:01\r",
      "\u001b[K     |██▏                             | 184kB 3.3MB/s eta 0:00:01\r",
      "\u001b[K     |██▎                             | 194kB 3.3MB/s eta 0:00:01\r",
      "\u001b[K     |██▍                             | 204kB 3.3MB/s eta 0:00:01\r",
      "\u001b[K     |██▌                             | 215kB 3.3MB/s eta 0:00:01\r",
      "\u001b[K     |██▋                             | 225kB 3.3MB/s eta 0:00:01\r",
      "\u001b[K     |██▊                             | 235kB 3.3MB/s eta 0:00:01\r",
      "\u001b[K     |██▉                             | 245kB 3.3MB/s eta 0:00:01\r",
      "\u001b[K     |███                             | 256kB 3.3MB/s eta 0:00:01\r",
      "\u001b[K     |███                             | 266kB 3.3MB/s eta 0:00:01\r",
      "\u001b[K     |███▎                            | 276kB 3.3MB/s eta 0:00:01\r",
      "\u001b[K     |███▍                            | 286kB 3.3MB/s eta 0:00:01\r",
      "\u001b[K     |███▌                            | 296kB 3.3MB/s eta 0:00:01\r",
      "\u001b[K     |███▋                            | 307kB 3.3MB/s eta 0:00:01\r",
      "\u001b[K     |███▊                            | 317kB 3.3MB/s eta 0:00:01\r",
      "\u001b[K     |███▉                            | 327kB 3.3MB/s eta 0:00:01\r",
      "\u001b[K     |████                            | 337kB 3.3MB/s eta 0:00:01\r",
      "\u001b[K     |████                            | 348kB 3.3MB/s eta 0:00:01\r",
      "\u001b[K     |████▏                           | 358kB 3.3MB/s eta 0:00:01\r",
      "\u001b[K     |████▎                           | 368kB 3.3MB/s eta 0:00:01\r",
      "\u001b[K     |████▍                           | 378kB 3.3MB/s eta 0:00:01\r",
      "\u001b[K     |████▌                           | 389kB 3.3MB/s eta 0:00:01\r",
      "\u001b[K     |████▋                           | 399kB 3.3MB/s eta 0:00:01\r",
      "\u001b[K     |████▉                           | 409kB 3.3MB/s eta 0:00:01\r",
      "\u001b[K     |█████                           | 419kB 3.3MB/s eta 0:00:01\r",
      "\u001b[K     |█████                           | 430kB 3.3MB/s eta 0:00:01\r",
      "\u001b[K     |█████▏                          | 440kB 3.3MB/s eta 0:00:01\r",
      "\u001b[K     |█████▎                          | 450kB 3.3MB/s eta 0:00:01\r",
      "\u001b[K     |█████▍                          | 460kB 3.3MB/s eta 0:00:01\r",
      "\u001b[K     |█████▌                          | 471kB 3.3MB/s eta 0:00:01\r",
      "\u001b[K     |█████▋                          | 481kB 3.3MB/s eta 0:00:01\r",
      "\u001b[K     |█████▊                          | 491kB 3.3MB/s eta 0:00:01\r",
      "\u001b[K     |█████▉                          | 501kB 3.3MB/s eta 0:00:01\r",
      "\u001b[K     |██████                          | 512kB 3.3MB/s eta 0:00:01\r",
      "\u001b[K     |██████                          | 522kB 3.3MB/s eta 0:00:01\r",
      "\u001b[K     |██████▏                         | 532kB 3.3MB/s eta 0:00:01\r",
      "\u001b[K     |██████▍                         | 542kB 3.3MB/s eta 0:00:01\r",
      "\u001b[K     |██████▌                         | 552kB 3.3MB/s eta 0:00:01\r",
      "\u001b[K     |██████▋                         | 563kB 3.3MB/s eta 0:00:01\r",
      "\u001b[K     |██████▊                         | 573kB 3.3MB/s eta 0:00:01\r",
      "\u001b[K     |██████▉                         | 583kB 3.3MB/s eta 0:00:01\r",
      "\u001b[K     |███████                         | 593kB 3.3MB/s eta 0:00:01\r",
      "\u001b[K     |███████                         | 604kB 3.3MB/s eta 0:00:01\r",
      "\u001b[K     |███████▏                        | 614kB 3.3MB/s eta 0:00:01\r",
      "\u001b[K     |███████▎                        | 624kB 3.3MB/s eta 0:00:01\r",
      "\u001b[K     |███████▍                        | 634kB 3.3MB/s eta 0:00:01\r",
      "\u001b[K     |███████▌                        | 645kB 3.3MB/s eta 0:00:01\r",
      "\u001b[K     |███████▋                        | 655kB 3.3MB/s eta 0:00:01\r",
      "\u001b[K     |███████▊                        | 665kB 3.3MB/s eta 0:00:01\r",
      "\u001b[K     |████████                        | 675kB 3.3MB/s eta 0:00:01\r",
      "\u001b[K     |████████                        | 686kB 3.3MB/s eta 0:00:01\r",
      "\u001b[K     |████████▏                       | 696kB 3.3MB/s eta 0:00:01\r",
      "\u001b[K     |████████▎                       | 706kB 3.3MB/s eta 0:00:01\r",
      "\u001b[K     |████████▍                       | 716kB 3.3MB/s eta 0:00:01\r",
      "\u001b[K     |████████▌                       | 727kB 3.3MB/s eta 0:00:01\r",
      "\u001b[K     |████████▋                       | 737kB 3.3MB/s eta 0:00:01\r",
      "\u001b[K     |████████▊                       | 747kB 3.3MB/s eta 0:00:01\r",
      "\u001b[K     |████████▉                       | 757kB 3.3MB/s eta 0:00:01\r",
      "\u001b[K     |█████████                       | 768kB 3.3MB/s eta 0:00:01\r",
      "\u001b[K     |█████████                       | 778kB 3.3MB/s eta 0:00:01\r",
      "\u001b[K     |█████████▏                      | 788kB 3.3MB/s eta 0:00:01\r",
      "\u001b[K     |█████████▎                      | 798kB 3.3MB/s eta 0:00:01\r",
      "\u001b[K     |█████████▍                      | 808kB 3.3MB/s eta 0:00:01\r",
      "\u001b[K     |█████████▋                      | 819kB 3.3MB/s eta 0:00:01\r",
      "\u001b[K     |█████████▊                      | 829kB 3.3MB/s eta 0:00:01\r",
      "\u001b[K     |█████████▉                      | 839kB 3.3MB/s eta 0:00:01\r",
      "\u001b[K     |██████████                      | 849kB 3.3MB/s eta 0:00:01\r",
      "\u001b[K     |██████████                      | 860kB 3.3MB/s eta 0:00:01\r",
      "\u001b[K     |██████████▏                     | 870kB 3.3MB/s eta 0:00:01\r",
      "\u001b[K     |██████████▎                     | 880kB 3.3MB/s eta 0:00:01\r",
      "\u001b[K     |██████████▍                     | 890kB 3.3MB/s eta 0:00:01\r",
      "\u001b[K     |██████████▌                     | 901kB 3.3MB/s eta 0:00:01\r",
      "\u001b[K     |██████████▋                     | 911kB 3.3MB/s eta 0:00:01\r",
      "\u001b[K     |██████████▊                     | 921kB 3.3MB/s eta 0:00:01\r",
      "\u001b[K     |██████████▉                     | 931kB 3.3MB/s eta 0:00:01\r",
      "\u001b[K     |███████████                     | 942kB 3.3MB/s eta 0:00:01\r",
      "\u001b[K     |███████████▏                    | 952kB 3.3MB/s eta 0:00:01\r",
      "\u001b[K     |███████████▎                    | 962kB 3.3MB/s eta 0:00:01\r",
      "\u001b[K     |███████████▍                    | 972kB 3.3MB/s eta 0:00:01\r",
      "\u001b[K     |███████████▌                    | 983kB 3.3MB/s eta 0:00:01\r",
      "\u001b[K     |███████████▋                    | 993kB 3.3MB/s eta 0:00:01\r",
      "\u001b[K     |███████████▊                    | 1.0MB 3.3MB/s eta 0:00:01\r",
      "\u001b[K     |███████████▉                    | 1.0MB 3.3MB/s eta 0:00:01\r",
      "\u001b[K     |████████████                    | 1.0MB 3.3MB/s eta 0:00:01\r",
      "\u001b[K     |████████████                    | 1.0MB 3.3MB/s eta 0:00:01\r",
      "\u001b[K     |████████████▏                   | 1.0MB 3.3MB/s eta 0:00:01\r",
      "\u001b[K     |████████████▎                   | 1.1MB 3.3MB/s eta 0:00:01\r",
      "\u001b[K     |████████████▍                   | 1.1MB 3.3MB/s eta 0:00:01\r",
      "\u001b[K     |████████████▌                   | 1.1MB 3.3MB/s eta 0:00:01\r",
      "\u001b[K     |████████████▊                   | 1.1MB 3.3MB/s eta 0:00:01\r",
      "\u001b[K     |████████████▉                   | 1.1MB 3.3MB/s eta 0:00:01\r",
      "\u001b[K     |█████████████                   | 1.1MB 3.3MB/s eta 0:00:01\r",
      "\u001b[K     |█████████████                   | 1.1MB 3.3MB/s eta 0:00:01\r",
      "\u001b[K     |█████████████▏                  | 1.1MB 3.3MB/s eta 0:00:01\r",
      "\u001b[K     |█████████████▎                  | 1.1MB 3.3MB/s eta 0:00:01\r",
      "\u001b[K     |█████████████▍                  | 1.1MB 3.3MB/s eta 0:00:01\r",
      "\u001b[K     |█████████████▌                  | 1.2MB 3.3MB/s eta 0:00:01\r",
      "\u001b[K     |█████████████▋                  | 1.2MB 3.3MB/s eta 0:00:01\r",
      "\u001b[K     |█████████████▊                  | 1.2MB 3.3MB/s eta 0:00:01\r",
      "\u001b[K     |█████████████▉                  | 1.2MB 3.3MB/s eta 0:00:01\r",
      "\u001b[K     |██████████████                  | 1.2MB 3.3MB/s eta 0:00:01\r",
      "\u001b[K     |██████████████                  | 1.2MB 3.3MB/s eta 0:00:01\r",
      "\u001b[K     |██████████████▎                 | 1.2MB 3.3MB/s eta 0:00:01\r",
      "\u001b[K     |██████████████▍                 | 1.2MB 3.3MB/s eta 0:00:01\r",
      "\u001b[K     |██████████████▌                 | 1.2MB 3.3MB/s eta 0:00:01\r",
      "\u001b[K     |██████████████▋                 | 1.2MB 3.3MB/s eta 0:00:01\r",
      "\u001b[K     |██████████████▊                 | 1.3MB 3.3MB/s eta 0:00:01\r",
      "\u001b[K     |██████████████▉                 | 1.3MB 3.3MB/s eta 0:00:01\r",
      "\u001b[K     |███████████████                 | 1.3MB 3.3MB/s eta 0:00:01\r",
      "\u001b[K     |███████████████                 | 1.3MB 3.3MB/s eta 0:00:01\r",
      "\u001b[K     |███████████████▏                | 1.3MB 3.3MB/s eta 0:00:01\r",
      "\u001b[K     |███████████████▎                | 1.3MB 3.3MB/s eta 0:00:01\r",
      "\u001b[K     |███████████████▍                | 1.3MB 3.3MB/s eta 0:00:01\r",
      "\u001b[K     |███████████████▌                | 1.3MB 3.3MB/s eta 0:00:01\r",
      "\u001b[K     |███████████████▋                | 1.3MB 3.3MB/s eta 0:00:01\r",
      "\u001b[K     |███████████████▉                | 1.4MB 3.3MB/s eta 0:00:01\r",
      "\u001b[K     |████████████████                | 1.4MB 3.3MB/s eta 0:00:01\r",
      "\u001b[K     |████████████████                | 1.4MB 3.3MB/s eta 0:00:01\r",
      "\u001b[K     |████████████████▏               | 1.4MB 3.3MB/s eta 0:00:01\r",
      "\u001b[K     |████████████████▎               | 1.4MB 3.3MB/s eta 0:00:01\r",
      "\u001b[K     |████████████████▍               | 1.4MB 3.3MB/s eta 0:00:01\r",
      "\u001b[K     |████████████████▌               | 1.4MB 3.3MB/s eta 0:00:01\r",
      "\u001b[K     |████████████████▋               | 1.4MB 3.3MB/s eta 0:00:01\r",
      "\u001b[K     |████████████████▊               | 1.4MB 3.3MB/s eta 0:00:01\r",
      "\u001b[K     |████████████████▉               | 1.4MB 3.3MB/s eta 0:00:01\r",
      "\u001b[K     |█████████████████               | 1.5MB 3.3MB/s eta 0:00:01\r",
      "\u001b[K     |█████████████████               | 1.5MB 3.3MB/s eta 0:00:01\r",
      "\u001b[K     |█████████████████▏              | 1.5MB 3.3MB/s eta 0:00:01\r",
      "\u001b[K     |█████████████████▍              | 1.5MB 3.3MB/s eta 0:00:01\r",
      "\u001b[K     |█████████████████▌              | 1.5MB 3.3MB/s eta 0:00:01\r",
      "\u001b[K     |█████████████████▋              | 1.5MB 3.3MB/s eta 0:00:01\r",
      "\u001b[K     |█████████████████▊              | 1.5MB 3.3MB/s eta 0:00:01\r",
      "\u001b[K     |█████████████████▉              | 1.5MB 3.3MB/s eta 0:00:01\r",
      "\u001b[K     |██████████████████              | 1.5MB 3.3MB/s eta 0:00:01\r",
      "\u001b[K     |██████████████████              | 1.5MB 3.3MB/s eta 0:00:01\r",
      "\u001b[K     |██████████████████▏             | 1.6MB 3.3MB/s eta 0:00:01\r",
      "\u001b[K     |██████████████████▎             | 1.6MB 3.3MB/s eta 0:00:01\r",
      "\u001b[K     |██████████████████▍             | 1.6MB 3.3MB/s eta 0:00:01\r",
      "\u001b[K     |██████████████████▌             | 1.6MB 3.3MB/s eta 0:00:01\r",
      "\u001b[K     |██████████████████▋             | 1.6MB 3.3MB/s eta 0:00:01\r",
      "\u001b[K     |██████████████████▊             | 1.6MB 3.3MB/s eta 0:00:01\r",
      "\u001b[K     |██████████████████▉             | 1.6MB 3.3MB/s eta 0:00:01\r",
      "\u001b[K     |███████████████████             | 1.6MB 3.3MB/s eta 0:00:01\r",
      "\u001b[K     |███████████████████▏            | 1.6MB 3.3MB/s eta 0:00:01\r",
      "\u001b[K     |███████████████████▎            | 1.6MB 3.3MB/s eta 0:00:01\r",
      "\u001b[K     |███████████████████▍            | 1.7MB 3.3MB/s eta 0:00:01\r",
      "\u001b[K     |███████████████████▌            | 1.7MB 3.3MB/s eta 0:00:01\r",
      "\u001b[K     |███████████████████▋            | 1.7MB 3.3MB/s eta 0:00:01\r",
      "\u001b[K     |███████████████████▊            | 1.7MB 3.3MB/s eta 0:00:01\r",
      "\u001b[K     |███████████████████▉            | 1.7MB 3.3MB/s eta 0:00:01\r",
      "\u001b[K     |████████████████████            | 1.7MB 3.3MB/s eta 0:00:01\r",
      "\u001b[K     |████████████████████            | 1.7MB 3.3MB/s eta 0:00:01\r",
      "\u001b[K     |████████████████████▏           | 1.7MB 3.3MB/s eta 0:00:01\r",
      "\u001b[K     |████████████████████▎           | 1.7MB 3.3MB/s eta 0:00:01\r",
      "\u001b[K     |████████████████████▍           | 1.8MB 3.3MB/s eta 0:00:01\r",
      "\u001b[K     |████████████████████▋           | 1.8MB 3.3MB/s eta 0:00:01\r",
      "\u001b[K     |████████████████████▊           | 1.8MB 3.3MB/s eta 0:00:01\r",
      "\u001b[K     |████████████████████▉           | 1.8MB 3.3MB/s eta 0:00:01\r",
      "\u001b[K     |█████████████████████           | 1.8MB 3.3MB/s eta 0:00:01\r",
      "\u001b[K     |█████████████████████           | 1.8MB 3.3MB/s eta 0:00:01\r",
      "\u001b[K     |█████████████████████▏          | 1.8MB 3.3MB/s eta 0:00:01\r",
      "\u001b[K     |█████████████████████▎          | 1.8MB 3.3MB/s eta 0:00:01\r",
      "\u001b[K     |█████████████████████▍          | 1.8MB 3.3MB/s eta 0:00:01\r",
      "\u001b[K     |█████████████████████▌          | 1.8MB 3.3MB/s eta 0:00:01\r",
      "\u001b[K     |█████████████████████▋          | 1.9MB 3.3MB/s eta 0:00:01\r",
      "\u001b[K     |█████████████████████▊          | 1.9MB 3.3MB/s eta 0:00:01\r",
      "\u001b[K     |█████████████████████▉          | 1.9MB 3.3MB/s eta 0:00:01\r",
      "\u001b[K     |██████████████████████          | 1.9MB 3.3MB/s eta 0:00:01\r",
      "\u001b[K     |██████████████████████▏         | 1.9MB 3.3MB/s eta 0:00:01\r",
      "\u001b[K     |██████████████████████▎         | 1.9MB 3.3MB/s eta 0:00:01\r",
      "\u001b[K     |██████████████████████▍         | 1.9MB 3.3MB/s eta 0:00:01\r",
      "\u001b[K     |██████████████████████▌         | 1.9MB 3.3MB/s eta 0:00:01\r",
      "\u001b[K     |██████████████████████▋         | 1.9MB 3.3MB/s eta 0:00:01\r",
      "\u001b[K     |██████████████████████▊         | 1.9MB 3.3MB/s eta 0:00:01\r",
      "\u001b[K     |██████████████████████▉         | 2.0MB 3.3MB/s eta 0:00:01\r",
      "\u001b[K     |███████████████████████         | 2.0MB 3.3MB/s eta 0:00:01\r",
      "\u001b[K     |███████████████████████         | 2.0MB 3.3MB/s eta 0:00:01\r",
      "\u001b[K     |███████████████████████▏        | 2.0MB 3.3MB/s eta 0:00:01\r",
      "\u001b[K     |███████████████████████▎        | 2.0MB 3.3MB/s eta 0:00:01\r",
      "\u001b[K     |███████████████████████▍        | 2.0MB 3.3MB/s eta 0:00:01\r",
      "\u001b[K     |███████████████████████▌        | 2.0MB 3.3MB/s eta 0:00:01\r",
      "\u001b[K     |███████████████████████▊        | 2.0MB 3.3MB/s eta 0:00:01\r",
      "\u001b[K     |███████████████████████▉        | 2.0MB 3.3MB/s eta 0:00:01\r",
      "\u001b[K     |████████████████████████        | 2.0MB 3.3MB/s eta 0:00:01\r",
      "\u001b[K     |████████████████████████        | 2.1MB 3.3MB/s eta 0:00:01\r",
      "\u001b[K     |████████████████████████▏       | 2.1MB 3.3MB/s eta 0:00:01\r",
      "\u001b[K     |████████████████████████▎       | 2.1MB 3.3MB/s eta 0:00:01\r",
      "\u001b[K     |████████████████████████▍       | 2.1MB 3.3MB/s eta 0:00:01\r",
      "\u001b[K     |████████████████████████▌       | 2.1MB 3.3MB/s eta 0:00:01\r",
      "\u001b[K     |████████████████████████▋       | 2.1MB 3.3MB/s eta 0:00:01\r",
      "\u001b[K     |████████████████████████▊       | 2.1MB 3.3MB/s eta 0:00:01\r",
      "\u001b[K     |████████████████████████▉       | 2.1MB 3.3MB/s eta 0:00:01\r",
      "\u001b[K     |█████████████████████████       | 2.1MB 3.3MB/s eta 0:00:01\r",
      "\u001b[K     |█████████████████████████       | 2.2MB 3.3MB/s eta 0:00:01\r",
      "\u001b[K     |█████████████████████████▎      | 2.2MB 3.3MB/s eta 0:00:01\r",
      "\u001b[K     |█████████████████████████▍      | 2.2MB 3.3MB/s eta 0:00:01\r",
      "\u001b[K     |█████████████████████████▌      | 2.2MB 3.3MB/s eta 0:00:01\r",
      "\u001b[K     |█████████████████████████▋      | 2.2MB 3.3MB/s eta 0:00:01\r",
      "\u001b[K     |█████████████████████████▊      | 2.2MB 3.3MB/s eta 0:00:01\r",
      "\u001b[K     |█████████████████████████▉      | 2.2MB 3.3MB/s eta 0:00:01\r",
      "\u001b[K     |██████████████████████████      | 2.2MB 3.3MB/s eta 0:00:01\r",
      "\u001b[K     |██████████████████████████      | 2.2MB 3.3MB/s eta 0:00:01\r",
      "\u001b[K     |██████████████████████████▏     | 2.2MB 3.3MB/s eta 0:00:01\r",
      "\u001b[K     |██████████████████████████▎     | 2.3MB 3.3MB/s eta 0:00:01\r",
      "\u001b[K     |██████████████████████████▍     | 2.3MB 3.3MB/s eta 0:00:01\r",
      "\u001b[K     |██████████████████████████▌     | 2.3MB 3.3MB/s eta 0:00:01\r",
      "\u001b[K     |██████████████████████████▋     | 2.3MB 3.3MB/s eta 0:00:01\r",
      "\u001b[K     |██████████████████████████▊     | 2.3MB 3.3MB/s eta 0:00:01\r",
      "\u001b[K     |███████████████████████████     | 2.3MB 3.3MB/s eta 0:00:01\r",
      "\u001b[K     |███████████████████████████     | 2.3MB 3.3MB/s eta 0:00:01\r",
      "\u001b[K     |███████████████████████████▏    | 2.3MB 3.3MB/s eta 0:00:01\r",
      "\u001b[K     |███████████████████████████▎    | 2.3MB 3.3MB/s eta 0:00:01\r",
      "\u001b[K     |███████████████████████████▍    | 2.3MB 3.3MB/s eta 0:00:01\r",
      "\u001b[K     |███████████████████████████▌    | 2.4MB 3.3MB/s eta 0:00:01\r",
      "\u001b[K     |███████████████████████████▋    | 2.4MB 3.3MB/s eta 0:00:01\r",
      "\u001b[K     |███████████████████████████▊    | 2.4MB 3.3MB/s eta 0:00:01\r",
      "\u001b[K     |███████████████████████████▉    | 2.4MB 3.3MB/s eta 0:00:01\r",
      "\u001b[K     |████████████████████████████    | 2.4MB 3.3MB/s eta 0:00:01\r",
      "\u001b[K     |████████████████████████████    | 2.4MB 3.3MB/s eta 0:00:01\r",
      "\u001b[K     |████████████████████████████▏   | 2.4MB 3.3MB/s eta 0:00:01\r",
      "\u001b[K     |████████████████████████████▎   | 2.4MB 3.3MB/s eta 0:00:01\r",
      "\u001b[K     |████████████████████████████▌   | 2.4MB 3.3MB/s eta 0:00:01\r",
      "\u001b[K     |████████████████████████████▋   | 2.4MB 3.3MB/s eta 0:00:01\r",
      "\u001b[K     |████████████████████████████▊   | 2.5MB 3.3MB/s eta 0:00:01\r",
      "\u001b[K     |████████████████████████████▉   | 2.5MB 3.3MB/s eta 0:00:01\r",
      "\u001b[K     |█████████████████████████████   | 2.5MB 3.3MB/s eta 0:00:01\r",
      "\u001b[K     |█████████████████████████████   | 2.5MB 3.3MB/s eta 0:00:01\r",
      "\u001b[K     |█████████████████████████████▏  | 2.5MB 3.3MB/s eta 0:00:01\r",
      "\u001b[K     |█████████████████████████████▎  | 2.5MB 3.3MB/s eta 0:00:01\r",
      "\u001b[K     |█████████████████████████████▍  | 2.5MB 3.3MB/s eta 0:00:01\r",
      "\u001b[K     |█████████████████████████████▌  | 2.5MB 3.3MB/s eta 0:00:01\r",
      "\u001b[K     |█████████████████████████████▋  | 2.5MB 3.3MB/s eta 0:00:01\r",
      "\u001b[K     |█████████████████████████████▊  | 2.5MB 3.3MB/s eta 0:00:01\r",
      "\u001b[K     |█████████████████████████████▉  | 2.6MB 3.3MB/s eta 0:00:01\r",
      "\u001b[K     |██████████████████████████████  | 2.6MB 3.3MB/s eta 0:00:01\r",
      "\u001b[K     |██████████████████████████████▏ | 2.6MB 3.3MB/s eta 0:00:01\r",
      "\u001b[K     |██████████████████████████████▎ | 2.6MB 3.3MB/s eta 0:00:01\r",
      "\u001b[K     |██████████████████████████████▍ | 2.6MB 3.3MB/s eta 0:00:01\r",
      "\u001b[K     |██████████████████████████████▌ | 2.6MB 3.3MB/s eta 0:00:01\r",
      "\u001b[K     |██████████████████████████████▋ | 2.6MB 3.3MB/s eta 0:00:01\r",
      "\u001b[K     |██████████████████████████████▊ | 2.6MB 3.3MB/s eta 0:00:01\r",
      "\u001b[K     |██████████████████████████████▉ | 2.6MB 3.3MB/s eta 0:00:01\r",
      "\u001b[K     |███████████████████████████████ | 2.7MB 3.3MB/s eta 0:00:01\r",
      "\u001b[K     |███████████████████████████████ | 2.7MB 3.3MB/s eta 0:00:01\r",
      "\u001b[K     |███████████████████████████████▏| 2.7MB 3.3MB/s eta 0:00:01\r",
      "\u001b[K     |███████████████████████████████▎| 2.7MB 3.3MB/s eta 0:00:01\r",
      "\u001b[K     |███████████████████████████████▍| 2.7MB 3.3MB/s eta 0:00:01\r",
      "\u001b[K     |███████████████████████████████▋| 2.7MB 3.3MB/s eta 0:00:01\r",
      "\u001b[K     |███████████████████████████████▊| 2.7MB 3.3MB/s eta 0:00:01\r",
      "\u001b[K     |███████████████████████████████▉| 2.7MB 3.3MB/s eta 0:00:01\r",
      "\u001b[K     |████████████████████████████████| 2.7MB 3.3MB/s eta 0:00:01\r",
      "\u001b[K     |████████████████████████████████| 2.7MB 3.3MB/s \n",
      "\u001b[?25hInstalling collected packages: jpype1\n",
      "  Found existing installation: JPype1 0.7.4\n",
      "    Uninstalling JPype1-0.7.4:\n",
      "      Successfully uninstalled JPype1-0.7.4\n",
      "Successfully installed jpype1-0.7.0\n"
     ]
    }
   ],
   "source": [
    "pip install jpype1==0.7.0"
   ]
  },
  {
   "cell_type": "code",
   "execution_count": 0,
   "metadata": {
    "colab": {
     "base_uri": "https://localhost:8080/",
     "height": 545
    },
    "colab_type": "code",
    "executionInfo": {
     "elapsed": 21036,
     "status": "error",
     "timestamp": 1589376768304,
     "user": {
      "displayName": "_다혜",
      "photoUrl": "",
      "userId": "18431115278543745258"
     },
     "user_tz": -540
    },
    "id": "NXsgJimYPRhv",
    "outputId": "0c5e57fa-8cc8-47c4-b2a5-8facc792454b"
   },
   "outputs": [
    {
     "ename": "KeyboardInterrupt",
     "evalue": "ignored",
     "output_type": "error",
     "traceback": [
      "\u001b[0;31m---------------------------------------------------------------------------\u001b[0m",
      "\u001b[0;31mKeyboardInterrupt\u001b[0m                         Traceback (most recent call last)",
      "\u001b[0;32m/usr/local/lib/python3.6/dist-packages/ipykernel/kernelbase.py\u001b[0m in \u001b[0;36m_input_request\u001b[0;34m(self, prompt, ident, parent, password)\u001b[0m\n\u001b[1;32m    728\u001b[0m             \u001b[0;32mtry\u001b[0m\u001b[0;34m:\u001b[0m\u001b[0;34m\u001b[0m\u001b[0;34m\u001b[0m\u001b[0m\n\u001b[0;32m--> 729\u001b[0;31m                 \u001b[0mident\u001b[0m\u001b[0;34m,\u001b[0m \u001b[0mreply\u001b[0m \u001b[0;34m=\u001b[0m \u001b[0mself\u001b[0m\u001b[0;34m.\u001b[0m\u001b[0msession\u001b[0m\u001b[0;34m.\u001b[0m\u001b[0mrecv\u001b[0m\u001b[0;34m(\u001b[0m\u001b[0mself\u001b[0m\u001b[0;34m.\u001b[0m\u001b[0mstdin_socket\u001b[0m\u001b[0;34m,\u001b[0m \u001b[0;36m0\u001b[0m\u001b[0;34m)\u001b[0m\u001b[0;34m\u001b[0m\u001b[0;34m\u001b[0m\u001b[0m\n\u001b[0m\u001b[1;32m    730\u001b[0m             \u001b[0;32mexcept\u001b[0m \u001b[0mException\u001b[0m\u001b[0;34m:\u001b[0m\u001b[0;34m\u001b[0m\u001b[0;34m\u001b[0m\u001b[0m\n",
      "\u001b[0;32m/usr/local/lib/python3.6/dist-packages/jupyter_client/session.py\u001b[0m in \u001b[0;36mrecv\u001b[0;34m(self, socket, mode, content, copy)\u001b[0m\n\u001b[1;32m    802\u001b[0m         \u001b[0;32mtry\u001b[0m\u001b[0;34m:\u001b[0m\u001b[0;34m\u001b[0m\u001b[0;34m\u001b[0m\u001b[0m\n\u001b[0;32m--> 803\u001b[0;31m             \u001b[0mmsg_list\u001b[0m \u001b[0;34m=\u001b[0m \u001b[0msocket\u001b[0m\u001b[0;34m.\u001b[0m\u001b[0mrecv_multipart\u001b[0m\u001b[0;34m(\u001b[0m\u001b[0mmode\u001b[0m\u001b[0;34m,\u001b[0m \u001b[0mcopy\u001b[0m\u001b[0;34m=\u001b[0m\u001b[0mcopy\u001b[0m\u001b[0;34m)\u001b[0m\u001b[0;34m\u001b[0m\u001b[0;34m\u001b[0m\u001b[0m\n\u001b[0m\u001b[1;32m    804\u001b[0m         \u001b[0;32mexcept\u001b[0m \u001b[0mzmq\u001b[0m\u001b[0;34m.\u001b[0m\u001b[0mZMQError\u001b[0m \u001b[0;32mas\u001b[0m \u001b[0me\u001b[0m\u001b[0;34m:\u001b[0m\u001b[0;34m\u001b[0m\u001b[0;34m\u001b[0m\u001b[0m\n",
      "\u001b[0;32m/usr/local/lib/python3.6/dist-packages/zmq/sugar/socket.py\u001b[0m in \u001b[0;36mrecv_multipart\u001b[0;34m(self, flags, copy, track)\u001b[0m\n\u001b[1;32m    474\u001b[0m         \"\"\"\n\u001b[0;32m--> 475\u001b[0;31m         \u001b[0mparts\u001b[0m \u001b[0;34m=\u001b[0m \u001b[0;34m[\u001b[0m\u001b[0mself\u001b[0m\u001b[0;34m.\u001b[0m\u001b[0mrecv\u001b[0m\u001b[0;34m(\u001b[0m\u001b[0mflags\u001b[0m\u001b[0;34m,\u001b[0m \u001b[0mcopy\u001b[0m\u001b[0;34m=\u001b[0m\u001b[0mcopy\u001b[0m\u001b[0;34m,\u001b[0m \u001b[0mtrack\u001b[0m\u001b[0;34m=\u001b[0m\u001b[0mtrack\u001b[0m\u001b[0;34m)\u001b[0m\u001b[0;34m]\u001b[0m\u001b[0;34m\u001b[0m\u001b[0;34m\u001b[0m\u001b[0m\n\u001b[0m\u001b[1;32m    476\u001b[0m         \u001b[0;31m# have first part already, only loop while more to receive\u001b[0m\u001b[0;34m\u001b[0m\u001b[0;34m\u001b[0m\u001b[0;34m\u001b[0m\u001b[0m\n",
      "\u001b[0;32mzmq/backend/cython/socket.pyx\u001b[0m in \u001b[0;36mzmq.backend.cython.socket.Socket.recv\u001b[0;34m()\u001b[0m\n",
      "\u001b[0;32mzmq/backend/cython/socket.pyx\u001b[0m in \u001b[0;36mzmq.backend.cython.socket.Socket.recv\u001b[0;34m()\u001b[0m\n",
      "\u001b[0;32mzmq/backend/cython/socket.pyx\u001b[0m in \u001b[0;36mzmq.backend.cython.socket._recv_copy\u001b[0;34m()\u001b[0m\n",
      "\u001b[0;32m/usr/local/lib/python3.6/dist-packages/zmq/backend/cython/checkrc.pxd\u001b[0m in \u001b[0;36mzmq.backend.cython.checkrc._check_rc\u001b[0;34m()\u001b[0m\n",
      "\u001b[0;31mKeyboardInterrupt\u001b[0m: ",
      "\nDuring handling of the above exception, another exception occurred:\n",
      "\u001b[0;31mKeyboardInterrupt\u001b[0m                         Traceback (most recent call last)",
      "\u001b[0;32m<ipython-input-1-467920c1746f>\u001b[0m in \u001b[0;36m<module>\u001b[0;34m()\u001b[0m\n\u001b[1;32m      1\u001b[0m \u001b[0;32mfrom\u001b[0m \u001b[0mgoogle\u001b[0m\u001b[0;34m.\u001b[0m\u001b[0mcolab\u001b[0m \u001b[0;32mimport\u001b[0m \u001b[0mdrive\u001b[0m\u001b[0;34m\u001b[0m\u001b[0;34m\u001b[0m\u001b[0m\n\u001b[0;32m----> 2\u001b[0;31m \u001b[0mdrive\u001b[0m\u001b[0;34m.\u001b[0m\u001b[0mmount\u001b[0m\u001b[0;34m(\u001b[0m\u001b[0;34m'/gdrive'\u001b[0m\u001b[0;34m,\u001b[0m \u001b[0mforce_remount\u001b[0m\u001b[0;34m=\u001b[0m\u001b[0;32mTrue\u001b[0m\u001b[0;34m)\u001b[0m\u001b[0;34m\u001b[0m\u001b[0;34m\u001b[0m\u001b[0m\n\u001b[0m\u001b[1;32m      3\u001b[0m \u001b[0;34m\u001b[0m\u001b[0m\n\u001b[1;32m      4\u001b[0m \u001b[0;34m\u001b[0m\u001b[0m\n\u001b[1;32m      5\u001b[0m \u001b[0mget_ipython\u001b[0m\u001b[0;34m(\u001b[0m\u001b[0;34m)\u001b[0m\u001b[0;34m.\u001b[0m\u001b[0msystem\u001b[0m\u001b[0;34m(\u001b[0m\u001b[0;34m'ls \"/gdrive/My Drive/Colab Notebooks\"'\u001b[0m\u001b[0;34m)\u001b[0m\u001b[0;34m\u001b[0m\u001b[0;34m\u001b[0m\u001b[0m\n",
      "\u001b[0;32m/usr/local/lib/python3.6/dist-packages/google/colab/drive.py\u001b[0m in \u001b[0;36mmount\u001b[0;34m(mountpoint, force_remount, timeout_ms, use_metadata_server)\u001b[0m\n\u001b[1;32m    236\u001b[0m       \u001b[0mauth_prompt\u001b[0m \u001b[0;34m=\u001b[0m \u001b[0md\u001b[0m\u001b[0;34m.\u001b[0m\u001b[0mmatch\u001b[0m\u001b[0;34m.\u001b[0m\u001b[0mgroup\u001b[0m\u001b[0;34m(\u001b[0m\u001b[0;36m1\u001b[0m\u001b[0;34m)\u001b[0m \u001b[0;34m+\u001b[0m \u001b[0;34m'\\nEnter your authorization code:\\n'\u001b[0m\u001b[0;34m\u001b[0m\u001b[0;34m\u001b[0m\u001b[0m\n\u001b[1;32m    237\u001b[0m       \u001b[0;32mwith\u001b[0m \u001b[0mopen\u001b[0m\u001b[0;34m(\u001b[0m\u001b[0mfifo\u001b[0m\u001b[0;34m,\u001b[0m \u001b[0;34m'w'\u001b[0m\u001b[0;34m)\u001b[0m \u001b[0;32mas\u001b[0m \u001b[0mfifo_file\u001b[0m\u001b[0;34m:\u001b[0m\u001b[0;34m\u001b[0m\u001b[0;34m\u001b[0m\u001b[0m\n\u001b[0;32m--> 238\u001b[0;31m         \u001b[0mfifo_file\u001b[0m\u001b[0;34m.\u001b[0m\u001b[0mwrite\u001b[0m\u001b[0;34m(\u001b[0m\u001b[0m_getpass\u001b[0m\u001b[0;34m.\u001b[0m\u001b[0mgetpass\u001b[0m\u001b[0;34m(\u001b[0m\u001b[0mauth_prompt\u001b[0m\u001b[0;34m)\u001b[0m \u001b[0;34m+\u001b[0m \u001b[0;34m'\\n'\u001b[0m\u001b[0;34m)\u001b[0m\u001b[0;34m\u001b[0m\u001b[0;34m\u001b[0m\u001b[0m\n\u001b[0m\u001b[1;32m    239\u001b[0m       \u001b[0mwrote_to_fifo\u001b[0m \u001b[0;34m=\u001b[0m \u001b[0;32mTrue\u001b[0m\u001b[0;34m\u001b[0m\u001b[0;34m\u001b[0m\u001b[0m\n\u001b[1;32m    240\u001b[0m   \u001b[0;32mif\u001b[0m \u001b[0;32mnot\u001b[0m \u001b[0mwrote_to_fifo\u001b[0m\u001b[0;34m:\u001b[0m\u001b[0;34m\u001b[0m\u001b[0;34m\u001b[0m\u001b[0m\n",
      "\u001b[0;32m/usr/local/lib/python3.6/dist-packages/ipykernel/kernelbase.py\u001b[0m in \u001b[0;36mgetpass\u001b[0;34m(self, prompt, stream)\u001b[0m\n\u001b[1;32m    685\u001b[0m             \u001b[0mself\u001b[0m\u001b[0;34m.\u001b[0m\u001b[0m_parent_ident\u001b[0m\u001b[0;34m,\u001b[0m\u001b[0;34m\u001b[0m\u001b[0;34m\u001b[0m\u001b[0m\n\u001b[1;32m    686\u001b[0m             \u001b[0mself\u001b[0m\u001b[0;34m.\u001b[0m\u001b[0m_parent_header\u001b[0m\u001b[0;34m,\u001b[0m\u001b[0;34m\u001b[0m\u001b[0;34m\u001b[0m\u001b[0m\n\u001b[0;32m--> 687\u001b[0;31m             \u001b[0mpassword\u001b[0m\u001b[0;34m=\u001b[0m\u001b[0;32mTrue\u001b[0m\u001b[0;34m,\u001b[0m\u001b[0;34m\u001b[0m\u001b[0;34m\u001b[0m\u001b[0m\n\u001b[0m\u001b[1;32m    688\u001b[0m         )\n\u001b[1;32m    689\u001b[0m \u001b[0;34m\u001b[0m\u001b[0m\n",
      "\u001b[0;32m/usr/local/lib/python3.6/dist-packages/ipykernel/kernelbase.py\u001b[0m in \u001b[0;36m_input_request\u001b[0;34m(self, prompt, ident, parent, password)\u001b[0m\n\u001b[1;32m    732\u001b[0m             \u001b[0;32mexcept\u001b[0m \u001b[0mKeyboardInterrupt\u001b[0m\u001b[0;34m:\u001b[0m\u001b[0;34m\u001b[0m\u001b[0;34m\u001b[0m\u001b[0m\n\u001b[1;32m    733\u001b[0m                 \u001b[0;31m# re-raise KeyboardInterrupt, to truncate traceback\u001b[0m\u001b[0;34m\u001b[0m\u001b[0;34m\u001b[0m\u001b[0;34m\u001b[0m\u001b[0m\n\u001b[0;32m--> 734\u001b[0;31m                 \u001b[0;32mraise\u001b[0m \u001b[0mKeyboardInterrupt\u001b[0m\u001b[0;34m\u001b[0m\u001b[0;34m\u001b[0m\u001b[0m\n\u001b[0m\u001b[1;32m    735\u001b[0m             \u001b[0;32melse\u001b[0m\u001b[0;34m:\u001b[0m\u001b[0;34m\u001b[0m\u001b[0;34m\u001b[0m\u001b[0m\n\u001b[1;32m    736\u001b[0m                 \u001b[0;32mbreak\u001b[0m\u001b[0;34m\u001b[0m\u001b[0;34m\u001b[0m\u001b[0m\n",
      "\u001b[0;31mKeyboardInterrupt\u001b[0m: "
     ]
    }
   ],
   "source": [
    "from google.colab import drive\n",
    "drive.mount('/gdrive', force_remount=True)\n",
    "\n",
    "\n",
    "!ls \"/gdrive/My Drive/Colab Notebooks\""
   ]
  },
  {
   "cell_type": "code",
   "execution_count": 0,
   "metadata": {
    "colab": {},
    "colab_type": "code",
    "id": "yD8I8AQVP-6f"
   },
   "outputs": [],
   "source": [
    "def read_data(filename):\n",
    "    with open(filename, 'r', encoding = 'cp949') as f:\n",
    "        data = [line.split('\\t') for line in f.read().splitlines()]\n",
    "        # txt 파일의 헤더(id document label)는 제외하기\n",
    "        data = data[1:]\n",
    "    return data"
   ]
  },
  {
   "cell_type": "code",
   "execution_count": 0,
   "metadata": {
    "colab": {},
    "colab_type": "code",
    "id": "AJPuRbaXQEup"
   },
   "outputs": [],
   "source": [
    "train_data = read_data('/gdrive/My Drive/Colab Notebooks/ratings_train.txt')\n",
    "test_data = read_data('/gdrive/My Drive/Colab Notebooks/ratings_test.txt')"
   ]
  },
  {
   "cell_type": "code",
   "execution_count": 0,
   "metadata": {
    "colab": {
     "base_uri": "https://localhost:8080/",
     "height": 87
    },
    "colab_type": "code",
    "executionInfo": {
     "elapsed": 563,
     "status": "ok",
     "timestamp": 1589129238881,
     "user": {
      "displayName": "_다혜",
      "photoUrl": "",
      "userId": "18431115278543745258"
     },
     "user_tz": -540
    },
    "id": "tgO0iNM9QFtE",
    "outputId": "0c6f6f31-d5f5-4650-b54a-76fabb508b76"
   },
   "outputs": [
    {
     "name": "stdout",
     "output_type": "stream",
     "text": [
      "150000\n",
      "3\n",
      "50000\n",
      "3\n"
     ]
    }
   ],
   "source": [
    "print(len(train_data))\n",
    "print(len(train_data[0]))\n",
    "print(len(test_data))\n",
    "print(len(test_data[0]))"
   ]
  },
  {
   "cell_type": "code",
   "execution_count": 0,
   "metadata": {
    "colab": {},
    "colab_type": "code",
    "id": "RhdzstigQGiJ"
   },
   "outputs": [],
   "source": [
    "from konlpy.tag import Okt"
   ]
  },
  {
   "cell_type": "code",
   "execution_count": 0,
   "metadata": {
    "colab": {
     "base_uri": "https://localhost:8080/",
     "height": 34
    },
    "colab_type": "code",
    "executionInfo": {
     "elapsed": 5025,
     "status": "ok",
     "timestamp": 1589129248008,
     "user": {
      "displayName": "_다혜",
      "photoUrl": "",
      "userId": "18431115278543745258"
     },
     "user_tz": -540
    },
    "id": "1LLNzSf5QHUV",
    "outputId": "ca7c75e8-b783-421a-ddd7-6f6fdfa7d6db"
   },
   "outputs": [
    {
     "name": "stdout",
     "output_type": "stream",
     "text": [
      "[('이', 'Noun'), ('밤', 'Noun'), ('그날', 'Noun'), ('의', 'Josa'), ('반딧불', 'Noun'), ('을', 'Josa'), ('당신', 'Noun'), ('의', 'Josa'), ('창', 'Noun'), ('가까이', 'Noun'), ('보낼게요', 'Verb')]\n"
     ]
    }
   ],
   "source": [
    "okt = Okt()\n",
    "print(okt.pos(u'이 밤 그날의 반딧불을 당신의 창 가까이 보낼게요'))"
   ]
  },
  {
   "cell_type": "code",
   "execution_count": 0,
   "metadata": {
    "colab": {},
    "colab_type": "code",
    "id": "Ym0ZE3bnQI9K"
   },
   "outputs": [],
   "source": [
    "import json\n",
    "import os\n",
    "from pprint import pprint"
   ]
  },
  {
   "cell_type": "code",
   "execution_count": 0,
   "metadata": {
    "colab": {},
    "colab_type": "code",
    "id": "T04T1KkBQKD6"
   },
   "outputs": [],
   "source": [
    "def tokenize(doc):\n",
    "    # norm은 정규화, stem은 근어로 표시하기를 나타냄\n",
    "    return ['/'.join(t) for t in okt.pos(doc, norm=True, stem=True)]"
   ]
  },
  {
   "cell_type": "code",
   "execution_count": 0,
   "metadata": {
    "colab": {},
    "colab_type": "code",
    "id": "BfkbW11HQLK9"
   },
   "outputs": [],
   "source": [
    "if os.path.isfile('train_docs.json'):\n",
    "    with open('train_docs.json') as f:\n",
    "        train_docs = json.load(f)\n",
    "    with open('test_docs.json') as f:\n",
    "        test_docs = json.load(f)\n",
    "else:\n",
    "    train_docs = [(tokenize(row[1]), row[2]) for row in train_data]\n",
    "    test_docs = [(tokenize(row[1]), row[2]) for row in test_data]\n",
    "    # JSON 파일로 저장\n",
    "    with open('train_docs.json', 'w', encoding=\"utf-8\") as make_file:\n",
    "        json.dump(train_docs, make_file, ensure_ascii=False, indent=\"\\t\")\n",
    "    with open('test_docs.json', 'w', encoding=\"utf-8\") as make_file:\n",
    "        json.dump(test_docs, make_file, ensure_ascii=False, indent=\"\\t\")"
   ]
  },
  {
   "cell_type": "code",
   "execution_count": 0,
   "metadata": {
    "colab": {
     "base_uri": "https://localhost:8080/",
     "height": 186
    },
    "colab_type": "code",
    "executionInfo": {
     "elapsed": 585,
     "status": "error",
     "timestamp": 1589048843128,
     "user": {
      "displayName": "_다혜",
      "photoUrl": "",
      "userId": "18431115278543745258"
     },
     "user_tz": -540
    },
    "id": "Uj9E118cSNAR",
    "outputId": "60621c7c-1ce6-478c-dc20-1b126164f23a"
   },
   "outputs": [
    {
     "ename": "FileNotFoundError",
     "evalue": "ignored",
     "output_type": "error",
     "traceback": [
      "\u001b[0;31m---------------------------------------------------------------------------\u001b[0m",
      "\u001b[0;31mFileNotFoundError\u001b[0m                         Traceback (most recent call last)",
      "\u001b[0;32m<ipython-input-12-e0ce634d8e40>\u001b[0m in \u001b[0;36m<module>\u001b[0;34m()\u001b[0m\n\u001b[0;32m----> 1\u001b[0;31m \u001b[0;32mwith\u001b[0m \u001b[0mopen\u001b[0m\u001b[0;34m(\u001b[0m\u001b[0;34m'/gdrive/My Drive/Colab Notebooks/train_docs.json'\u001b[0m\u001b[0;34m)\u001b[0m \u001b[0;32mas\u001b[0m \u001b[0mf\u001b[0m\u001b[0;34m:\u001b[0m\u001b[0;34m\u001b[0m\u001b[0;34m\u001b[0m\u001b[0m\n\u001b[0m\u001b[1;32m      2\u001b[0m         \u001b[0mtrain_docs\u001b[0m \u001b[0;34m=\u001b[0m \u001b[0mjson\u001b[0m\u001b[0;34m.\u001b[0m\u001b[0mload\u001b[0m\u001b[0;34m(\u001b[0m\u001b[0mf\u001b[0m\u001b[0;34m)\u001b[0m\u001b[0;34m\u001b[0m\u001b[0;34m\u001b[0m\u001b[0m\n",
      "\u001b[0;31mFileNotFoundError\u001b[0m: [Errno 2] No such file or directory: '/gdrive/My Drive/Colab Notebooks/train_docs.json'"
     ]
    }
   ],
   "source": [
    "with open('/gdrive/My Drive/Colab Notebooks/train_docs.json') as f:\n",
    "        train_docs = json.load(f)"
   ]
  },
  {
   "cell_type": "code",
   "execution_count": 0,
   "metadata": {
    "colab": {
     "base_uri": "https://localhost:8080/",
     "height": 186
    },
    "colab_type": "code",
    "executionInfo": {
     "elapsed": 739,
     "status": "error",
     "timestamp": 1589030944380,
     "user": {
      "displayName": "_다혜",
      "photoUrl": "",
      "userId": "18431115278543745258"
     },
     "user_tz": -540
    },
    "id": "FVnIacZkSeC5",
    "outputId": "a47d8f9f-41e6-4114-c491-af42de4517df"
   },
   "outputs": [
    {
     "ename": "FileNotFoundError",
     "evalue": "ignored",
     "output_type": "error",
     "traceback": [
      "\u001b[0;31m---------------------------------------------------------------------------\u001b[0m",
      "\u001b[0;31mFileNotFoundError\u001b[0m                         Traceback (most recent call last)",
      "\u001b[0;32m<ipython-input-51-7d0803e409f4>\u001b[0m in \u001b[0;36m<module>\u001b[0;34m()\u001b[0m\n\u001b[0;32m----> 1\u001b[0;31m \u001b[0;32mwith\u001b[0m \u001b[0mopen\u001b[0m\u001b[0;34m(\u001b[0m\u001b[0;34m'/gdrive/My Drive/test_docs.json'\u001b[0m\u001b[0;34m)\u001b[0m \u001b[0;32mas\u001b[0m \u001b[0mf\u001b[0m\u001b[0;34m:\u001b[0m\u001b[0;34m\u001b[0m\u001b[0;34m\u001b[0m\u001b[0m\n\u001b[0m\u001b[1;32m      2\u001b[0m         \u001b[0mtest_docs\u001b[0m \u001b[0;34m=\u001b[0m \u001b[0mjson\u001b[0m\u001b[0;34m.\u001b[0m\u001b[0mload\u001b[0m\u001b[0;34m(\u001b[0m\u001b[0mf\u001b[0m\u001b[0;34m)\u001b[0m\u001b[0;34m\u001b[0m\u001b[0;34m\u001b[0m\u001b[0m\n",
      "\u001b[0;31mFileNotFoundError\u001b[0m: [Errno 2] No such file or directory: '/gdrive/My Drive/test_docs.json'"
     ]
    }
   ],
   "source": [
    "with open('/gdrive/My Drive/Colab Notebooks/test_docs.json') as f:\n",
    "        test_docs = json.load(f)"
   ]
  },
  {
   "cell_type": "code",
   "execution_count": 0,
   "metadata": {
    "colab": {
     "base_uri": "https://localhost:8080/",
     "height": 140
    },
    "colab_type": "code",
    "executionInfo": {
     "elapsed": 598,
     "status": "ok",
     "timestamp": 1589130396067,
     "user": {
      "displayName": "_다혜",
      "photoUrl": "",
      "userId": "18431115278543745258"
     },
     "user_tz": -540
    },
    "id": "r5ab4-VfQNUS",
    "outputId": "625524d8-b762-4162-c41f-bf1947599f8a"
   },
   "outputs": [
    {
     "name": "stdout",
     "output_type": "stream",
     "text": [
      "(['아/Exclamation',\n",
      "  '더빙/Noun',\n",
      "  '../Punctuation',\n",
      "  '진짜/Noun',\n",
      "  '짜증나다/Adjective',\n",
      "  '목소리/Noun'],\n",
      " '0')\n"
     ]
    }
   ],
   "source": [
    "pprint(train_docs[0])"
   ]
  },
  {
   "cell_type": "code",
   "execution_count": 0,
   "metadata": {
    "colab": {
     "base_uri": "https://localhost:8080/",
     "height": 34
    },
    "colab_type": "code",
    "executionInfo": {
     "elapsed": 588,
     "status": "ok",
     "timestamp": 1589130398445,
     "user": {
      "displayName": "_다혜",
      "photoUrl": "",
      "userId": "18431115278543745258"
     },
     "user_tz": -540
    },
    "id": "6hdoQ5hoQOxi",
    "outputId": "def507d4-3aed-4d6a-af88-0299da622a37"
   },
   "outputs": [
    {
     "name": "stdout",
     "output_type": "stream",
     "text": [
      "2159924\n"
     ]
    }
   ],
   "source": [
    "tokens = [t for d in train_docs for t in d[0]]\n",
    "print(len(tokens))"
   ]
  },
  {
   "cell_type": "code",
   "execution_count": 0,
   "metadata": {
    "colab": {},
    "colab_type": "code",
    "id": "78kgfRYxQPx2"
   },
   "outputs": [],
   "source": [
    "import nltk\n",
    "text = nltk.Text(tokens, name='NMSC')"
   ]
  },
  {
   "cell_type": "code",
   "execution_count": 0,
   "metadata": {
    "colab": {
     "base_uri": "https://localhost:8080/",
     "height": 228
    },
    "colab_type": "code",
    "executionInfo": {
     "elapsed": 3092,
     "status": "ok",
     "timestamp": 1589130404839,
     "user": {
      "displayName": "_다혜",
      "photoUrl": "",
      "userId": "18431115278543745258"
     },
     "user_tz": -540
    },
    "id": "w-Ql2U_pQRgc",
    "outputId": "a9f90a16-8d36-4645-bc70-ac9e3ab8aca9"
   },
   "outputs": [
    {
     "name": "stdout",
     "output_type": "stream",
     "text": [
      "2159924\n",
      "49895\n",
      "[('./Punctuation', 67777),\n",
      " ('영화/Noun', 50818),\n",
      " ('하다/Verb', 41209),\n",
      " ('이/Josa', 38540),\n",
      " ('보다/Verb', 38538),\n",
      " ('의/Josa', 30188),\n",
      " ('../Punctuation', 29055),\n",
      " ('가/Josa', 26627),\n",
      " ('에/Josa', 26468),\n",
      " ('을/Josa', 23118)]\n"
     ]
    }
   ],
   "source": [
    "# 전체 토큰의 개수\n",
    "print(len(text.tokens))\n",
    "\n",
    "# 중복을 제외한 토큰의 개수\n",
    "print(len(set(text.tokens)))            \n",
    "\n",
    "# 출현 빈도가 높은 상위 토큰 10개\n",
    "pprint(text.vocab().most_common(10))"
   ]
  },
  {
   "cell_type": "code",
   "execution_count": 0,
   "metadata": {
    "colab": {
     "base_uri": "https://localhost:8080/",
     "height": 334
    },
    "colab_type": "code",
    "executionInfo": {
     "elapsed": 18731,
     "status": "ok",
     "timestamp": 1589130433364,
     "user": {
      "displayName": "_다혜",
      "photoUrl": "",
      "userId": "18431115278543745258"
     },
     "user_tz": -540
    },
    "id": "L55mAaIvTTkc",
    "outputId": "11db5eb3-cbf0-4b11-d395-85c2b58fbbf5"
   },
   "outputs": [
    {
     "name": "stdout",
     "output_type": "stream",
     "text": [
      "Selecting previously unselected package fonts-nanum.\n",
      "(Reading database ... 144429 files and directories currently installed.)\n",
      "Preparing to unpack .../fonts-nanum_20170925-1_all.deb ...\n",
      "Unpacking fonts-nanum (20170925-1) ...\n",
      "Selecting previously unselected package fonts-nanum-eco.\n",
      "Preparing to unpack .../fonts-nanum-eco_1.000-6_all.deb ...\n",
      "Unpacking fonts-nanum-eco (1.000-6) ...\n",
      "Selecting previously unselected package fonts-nanum-extra.\n",
      "Preparing to unpack .../fonts-nanum-extra_20170925-1_all.deb ...\n",
      "Unpacking fonts-nanum-extra (20170925-1) ...\n",
      "Selecting previously unselected package fonts-nanum-coding.\n",
      "Preparing to unpack .../fonts-nanum-coding_2.5-1_all.deb ...\n",
      "Unpacking fonts-nanum-coding (2.5-1) ...\n",
      "Setting up fonts-nanum-extra (20170925-1) ...\n",
      "Setting up fonts-nanum (20170925-1) ...\n",
      "Setting up fonts-nanum-coding (2.5-1) ...\n",
      "Setting up fonts-nanum-eco (1.000-6) ...\n",
      "Processing triggers for fontconfig (2.12.6-0ubuntu2) ...\n"
     ]
    }
   ],
   "source": [
    "!apt-get update -qq\n",
    "!apt-get install fonts-nanum* -qq"
   ]
  },
  {
   "cell_type": "code",
   "execution_count": 0,
   "metadata": {
    "colab": {},
    "colab_type": "code",
    "id": "ykBJfFAYsdBb"
   },
   "outputs": [],
   "source": [
    "import matplotlib.pyplot as plt"
   ]
  },
  {
   "cell_type": "code",
   "execution_count": 0,
   "metadata": {
    "colab": {
     "base_uri": "https://localhost:8080/",
     "height": 34
    },
    "colab_type": "code",
    "executionInfo": {
     "elapsed": 904,
     "status": "ok",
     "timestamp": 1589130455213,
     "user": {
      "displayName": "_다혜",
      "photoUrl": "",
      "userId": "18431115278543745258"
     },
     "user_tz": -540
    },
    "id": "P8J26bQXTWv3",
    "outputId": "b0b8f6cc-58df-4899-b6e2-72b051696a15"
   },
   "outputs": [
    {
     "name": "stdout",
     "output_type": "stream",
     "text": [
      "NanumGothic Eco\n"
     ]
    }
   ],
   "source": [
    "import matplotlib.font_manager as fm  # 폰트 관련 용도\n",
    "path = '/usr/share/fonts/truetype/nanum/NanumGothicEco.ttf'  # 설치된 나눔글꼴중 원하는 녀석의 전체 경로를 가져오자\n",
    "font_name = fm.FontProperties(fname=path, size=10).get_name()\n",
    "print(font_name)\n",
    "plt.rc('font', family=font_name)"
   ]
  },
  {
   "cell_type": "code",
   "execution_count": 0,
   "metadata": {
    "colab": {},
    "colab_type": "code",
    "id": "dVC5imtqT1tI"
   },
   "outputs": [],
   "source": [
    "fm._rebuild()"
   ]
  },
  {
   "cell_type": "code",
   "execution_count": 0,
   "metadata": {
    "colab": {
     "base_uri": "https://localhost:8080/",
     "height": 1000
    },
    "colab_type": "code",
    "executionInfo": {
     "elapsed": 1264,
     "status": "ok",
     "timestamp": 1589130459675,
     "user": {
      "displayName": "_다혜",
      "photoUrl": "",
      "userId": "18431115278543745258"
     },
     "user_tz": -540
    },
    "id": "-hDLIcrVQSkS",
    "outputId": "f5d185e6-9339-4368-a9c6-60a3506add95"
   },
   "outputs": [
    {
     "name": "stderr",
     "output_type": "stream",
     "text": [
      "findfont: Font family ['NanumGothic Eco'] not found. Falling back to DejaVu Sans.\n",
      "/usr/local/lib/python3.6/dist-packages/matplotlib/backends/backend_agg.py:214: RuntimeWarning: Glyph 50689 missing from current font.\n",
      "  font.set_text(s, 0.0, flags=flags)\n",
      "/usr/local/lib/python3.6/dist-packages/matplotlib/backends/backend_agg.py:214: RuntimeWarning: Glyph 54868 missing from current font.\n",
      "  font.set_text(s, 0.0, flags=flags)\n",
      "/usr/local/lib/python3.6/dist-packages/matplotlib/backends/backend_agg.py:214: RuntimeWarning: Glyph 54616 missing from current font.\n",
      "  font.set_text(s, 0.0, flags=flags)\n",
      "/usr/local/lib/python3.6/dist-packages/matplotlib/backends/backend_agg.py:214: RuntimeWarning: Glyph 45796 missing from current font.\n",
      "  font.set_text(s, 0.0, flags=flags)\n",
      "/usr/local/lib/python3.6/dist-packages/matplotlib/backends/backend_agg.py:214: RuntimeWarning: Glyph 51060 missing from current font.\n",
      "  font.set_text(s, 0.0, flags=flags)\n",
      "/usr/local/lib/python3.6/dist-packages/matplotlib/backends/backend_agg.py:214: RuntimeWarning: Glyph 48372 missing from current font.\n",
      "  font.set_text(s, 0.0, flags=flags)\n",
      "/usr/local/lib/python3.6/dist-packages/matplotlib/backends/backend_agg.py:214: RuntimeWarning: Glyph 51032 missing from current font.\n",
      "  font.set_text(s, 0.0, flags=flags)\n",
      "/usr/local/lib/python3.6/dist-packages/matplotlib/backends/backend_agg.py:214: RuntimeWarning: Glyph 44032 missing from current font.\n",
      "  font.set_text(s, 0.0, flags=flags)\n",
      "/usr/local/lib/python3.6/dist-packages/matplotlib/backends/backend_agg.py:214: RuntimeWarning: Glyph 50640 missing from current font.\n",
      "  font.set_text(s, 0.0, flags=flags)\n",
      "/usr/local/lib/python3.6/dist-packages/matplotlib/backends/backend_agg.py:214: RuntimeWarning: Glyph 51012 missing from current font.\n",
      "  font.set_text(s, 0.0, flags=flags)\n",
      "/usr/local/lib/python3.6/dist-packages/matplotlib/backends/backend_agg.py:214: RuntimeWarning: Glyph 46020 missing from current font.\n",
      "  font.set_text(s, 0.0, flags=flags)\n",
      "/usr/local/lib/python3.6/dist-packages/matplotlib/backends/backend_agg.py:214: RuntimeWarning: Glyph 51008 missing from current font.\n",
      "  font.set_text(s, 0.0, flags=flags)\n",
      "/usr/local/lib/python3.6/dist-packages/matplotlib/backends/backend_agg.py:214: RuntimeWarning: Glyph 46308 missing from current font.\n",
      "  font.set_text(s, 0.0, flags=flags)\n",
      "/usr/local/lib/python3.6/dist-packages/matplotlib/backends/backend_agg.py:214: RuntimeWarning: Glyph 45716 missing from current font.\n",
      "  font.set_text(s, 0.0, flags=flags)\n",
      "/usr/local/lib/python3.6/dist-packages/matplotlib/backends/backend_agg.py:214: RuntimeWarning: Glyph 50630 missing from current font.\n",
      "  font.set_text(s, 0.0, flags=flags)\n",
      "/usr/local/lib/python3.6/dist-packages/matplotlib/backends/backend_agg.py:214: RuntimeWarning: Glyph 47484 missing from current font.\n",
      "  font.set_text(s, 0.0, flags=flags)\n",
      "/usr/local/lib/python3.6/dist-packages/matplotlib/backends/backend_agg.py:214: RuntimeWarning: Glyph 51080 missing from current font.\n",
      "  font.set_text(s, 0.0, flags=flags)\n",
      "/usr/local/lib/python3.6/dist-packages/matplotlib/backends/backend_agg.py:214: RuntimeWarning: Glyph 51339 missing from current font.\n",
      "  font.set_text(s, 0.0, flags=flags)\n",
      "/usr/local/lib/python3.6/dist-packages/matplotlib/backends/backend_agg.py:214: RuntimeWarning: Glyph 45320 missing from current font.\n",
      "  font.set_text(s, 0.0, flags=flags)\n",
      "/usr/local/lib/python3.6/dist-packages/matplotlib/backends/backend_agg.py:214: RuntimeWarning: Glyph 47924 missing from current font.\n",
      "  font.set_text(s, 0.0, flags=flags)\n",
      "/usr/local/lib/python3.6/dist-packages/matplotlib/backends/backend_agg.py:214: RuntimeWarning: Glyph 51116 missing from current font.\n",
      "  font.set_text(s, 0.0, flags=flags)\n",
      "/usr/local/lib/python3.6/dist-packages/matplotlib/backends/backend_agg.py:214: RuntimeWarning: Glyph 48140 missing from current font.\n",
      "  font.set_text(s, 0.0, flags=flags)\n",
      "/usr/local/lib/python3.6/dist-packages/matplotlib/backends/backend_agg.py:214: RuntimeWarning: Glyph 51221 missing from current font.\n",
      "  font.set_text(s, 0.0, flags=flags)\n",
      "/usr/local/lib/python3.6/dist-packages/matplotlib/backends/backend_agg.py:214: RuntimeWarning: Glyph 47568 missing from current font.\n",
      "  font.set_text(s, 0.0, flags=flags)\n",
      "/usr/local/lib/python3.6/dist-packages/matplotlib/backends/backend_agg.py:214: RuntimeWarning: Glyph 44163 missing from current font.\n",
      "  font.set_text(s, 0.0, flags=flags)\n",
      "/usr/local/lib/python3.6/dist-packages/matplotlib/backends/backend_agg.py:214: RuntimeWarning: Glyph 46104 missing from current font.\n",
      "  font.set_text(s, 0.0, flags=flags)\n",
      "/usr/local/lib/python3.6/dist-packages/matplotlib/backends/backend_agg.py:214: RuntimeWarning: Glyph 51652 missing from current font.\n",
      "  font.set_text(s, 0.0, flags=flags)\n",
      "/usr/local/lib/python3.6/dist-packages/matplotlib/backends/backend_agg.py:214: RuntimeWarning: Glyph 51676 missing from current font.\n",
      "  font.set_text(s, 0.0, flags=flags)\n",
      "/usr/local/lib/python3.6/dist-packages/matplotlib/backends/backend_agg.py:214: RuntimeWarning: Glyph 44057 missing from current font.\n",
      "  font.set_text(s, 0.0, flags=flags)\n",
      "/usr/local/lib/python3.6/dist-packages/matplotlib/backends/backend_agg.py:214: RuntimeWarning: Glyph 51201 missing from current font.\n",
      "  font.set_text(s, 0.0, flags=flags)\n",
      "/usr/local/lib/python3.6/dist-packages/matplotlib/backends/backend_agg.py:214: RuntimeWarning: Glyph 51004 missing from current font.\n",
      "  font.set_text(s, 0.0, flags=flags)\n",
      "/usr/local/lib/python3.6/dist-packages/matplotlib/backends/backend_agg.py:214: RuntimeWarning: Glyph 47196 missing from current font.\n",
      "  font.set_text(s, 0.0, flags=flags)\n",
      "/usr/local/lib/python3.6/dist-packages/matplotlib/backends/backend_agg.py:214: RuntimeWarning: Glyph 51216 missing from current font.\n",
      "  font.set_text(s, 0.0, flags=flags)\n",
      "/usr/local/lib/python3.6/dist-packages/matplotlib/backends/backend_agg.py:214: RuntimeWarning: Glyph 50500 missing from current font.\n",
      "  font.set_text(s, 0.0, flags=flags)\n",
      "/usr/local/lib/python3.6/dist-packages/matplotlib/backends/backend_agg.py:214: RuntimeWarning: Glyph 45768 missing from current font.\n",
      "  font.set_text(s, 0.0, flags=flags)\n",
      "/usr/local/lib/python3.6/dist-packages/matplotlib/backends/backend_agg.py:214: RuntimeWarning: Glyph 50506 missing from current font.\n",
      "  font.set_text(s, 0.0, flags=flags)\n",
      "/usr/local/lib/python3.6/dist-packages/matplotlib/backends/backend_agg.py:214: RuntimeWarning: Glyph 49436 missing from current font.\n",
      "  font.set_text(s, 0.0, flags=flags)\n",
      "/usr/local/lib/python3.6/dist-packages/matplotlib/backends/backend_agg.py:214: RuntimeWarning: Glyph 47564 missing from current font.\n",
      "  font.set_text(s, 0.0, flags=flags)\n",
      "/usr/local/lib/python3.6/dist-packages/matplotlib/backends/backend_agg.py:214: RuntimeWarning: Glyph 50672 missing from current font.\n",
      "  font.set_text(s, 0.0, flags=flags)\n",
      "/usr/local/lib/python3.6/dist-packages/matplotlib/backends/backend_agg.py:214: RuntimeWarning: Glyph 44592 missing from current font.\n",
      "  font.set_text(s, 0.0, flags=flags)\n",
      "/usr/local/lib/python3.6/dist-packages/matplotlib/backends/backend_agg.py:214: RuntimeWarning: Glyph 45208 missing from current font.\n",
      "  font.set_text(s, 0.0, flags=flags)\n",
      "/usr/local/lib/python3.6/dist-packages/matplotlib/backends/backend_agg.py:214: RuntimeWarning: Glyph 50724 missing from current font.\n",
      "  font.set_text(s, 0.0, flags=flags)\n",
      "/usr/local/lib/python3.6/dist-packages/matplotlib/backends/backend_agg.py:214: RuntimeWarning: Glyph 54217 missing from current font.\n",
      "  font.set_text(s, 0.0, flags=flags)\n",
      "/usr/local/lib/python3.6/dist-packages/matplotlib/backends/backend_agg.py:214: RuntimeWarning: Glyph 44284 missing from current font.\n",
      "  font.set_text(s, 0.0, flags=flags)\n",
      "/usr/local/lib/python3.6/dist-packages/matplotlib/backends/backend_agg.py:214: RuntimeWarning: Glyph 52572 missing from current font.\n",
      "  font.set_text(s, 0.0, flags=flags)\n",
      "/usr/local/lib/python3.6/dist-packages/matplotlib/backends/backend_agg.py:214: RuntimeWarning: Glyph 44256 missing from current font.\n",
      "  font.set_text(s, 0.0, flags=flags)\n",
      "/usr/local/lib/python3.6/dist-packages/matplotlib/backends/backend_agg.py:214: RuntimeWarning: Glyph 54620 missing from current font.\n",
      "  font.set_text(s, 0.0, flags=flags)\n",
      "/usr/local/lib/python3.6/dist-packages/matplotlib/backends/backend_agg.py:214: RuntimeWarning: Glyph 50780 missing from current font.\n",
      "  font.set_text(s, 0.0, flags=flags)\n",
      "/usr/local/lib/python3.6/dist-packages/matplotlib/backends/backend_agg.py:214: RuntimeWarning: Glyph 49828 missing from current font.\n",
      "  font.set_text(s, 0.0, flags=flags)\n",
      "/usr/local/lib/python3.6/dist-packages/matplotlib/backends/backend_agg.py:214: RuntimeWarning: Glyph 53664 missing from current font.\n",
      "  font.set_text(s, 0.0, flags=flags)\n",
      "/usr/local/lib/python3.6/dist-packages/matplotlib/backends/backend_agg.py:214: RuntimeWarning: Glyph 47532 missing from current font.\n",
      "  font.set_text(s, 0.0, flags=flags)\n",
      "/usr/local/lib/python3.6/dist-packages/matplotlib/backends/backend_agg.py:183: RuntimeWarning: Glyph 50689 missing from current font.\n",
      "  font.set_text(s, 0, flags=flags)\n",
      "/usr/local/lib/python3.6/dist-packages/matplotlib/backends/backend_agg.py:183: RuntimeWarning: Glyph 54868 missing from current font.\n",
      "  font.set_text(s, 0, flags=flags)\n",
      "/usr/local/lib/python3.6/dist-packages/matplotlib/backends/backend_agg.py:183: RuntimeWarning: Glyph 54616 missing from current font.\n",
      "  font.set_text(s, 0, flags=flags)\n",
      "/usr/local/lib/python3.6/dist-packages/matplotlib/backends/backend_agg.py:183: RuntimeWarning: Glyph 45796 missing from current font.\n",
      "  font.set_text(s, 0, flags=flags)\n",
      "/usr/local/lib/python3.6/dist-packages/matplotlib/backends/backend_agg.py:183: RuntimeWarning: Glyph 51060 missing from current font.\n",
      "  font.set_text(s, 0, flags=flags)\n",
      "/usr/local/lib/python3.6/dist-packages/matplotlib/backends/backend_agg.py:183: RuntimeWarning: Glyph 48372 missing from current font.\n",
      "  font.set_text(s, 0, flags=flags)\n",
      "/usr/local/lib/python3.6/dist-packages/matplotlib/backends/backend_agg.py:183: RuntimeWarning: Glyph 51032 missing from current font.\n",
      "  font.set_text(s, 0, flags=flags)\n",
      "/usr/local/lib/python3.6/dist-packages/matplotlib/backends/backend_agg.py:183: RuntimeWarning: Glyph 44032 missing from current font.\n",
      "  font.set_text(s, 0, flags=flags)\n",
      "/usr/local/lib/python3.6/dist-packages/matplotlib/backends/backend_agg.py:183: RuntimeWarning: Glyph 50640 missing from current font.\n",
      "  font.set_text(s, 0, flags=flags)\n",
      "/usr/local/lib/python3.6/dist-packages/matplotlib/backends/backend_agg.py:183: RuntimeWarning: Glyph 51012 missing from current font.\n",
      "  font.set_text(s, 0, flags=flags)\n",
      "/usr/local/lib/python3.6/dist-packages/matplotlib/backends/backend_agg.py:183: RuntimeWarning: Glyph 46020 missing from current font.\n",
      "  font.set_text(s, 0, flags=flags)\n",
      "/usr/local/lib/python3.6/dist-packages/matplotlib/backends/backend_agg.py:183: RuntimeWarning: Glyph 51008 missing from current font.\n",
      "  font.set_text(s, 0, flags=flags)\n",
      "/usr/local/lib/python3.6/dist-packages/matplotlib/backends/backend_agg.py:183: RuntimeWarning: Glyph 46308 missing from current font.\n",
      "  font.set_text(s, 0, flags=flags)\n",
      "/usr/local/lib/python3.6/dist-packages/matplotlib/backends/backend_agg.py:183: RuntimeWarning: Glyph 45716 missing from current font.\n",
      "  font.set_text(s, 0, flags=flags)\n",
      "/usr/local/lib/python3.6/dist-packages/matplotlib/backends/backend_agg.py:183: RuntimeWarning: Glyph 50630 missing from current font.\n",
      "  font.set_text(s, 0, flags=flags)\n",
      "/usr/local/lib/python3.6/dist-packages/matplotlib/backends/backend_agg.py:183: RuntimeWarning: Glyph 47484 missing from current font.\n",
      "  font.set_text(s, 0, flags=flags)\n",
      "/usr/local/lib/python3.6/dist-packages/matplotlib/backends/backend_agg.py:183: RuntimeWarning: Glyph 51080 missing from current font.\n",
      "  font.set_text(s, 0, flags=flags)\n",
      "/usr/local/lib/python3.6/dist-packages/matplotlib/backends/backend_agg.py:183: RuntimeWarning: Glyph 51339 missing from current font.\n",
      "  font.set_text(s, 0, flags=flags)\n",
      "/usr/local/lib/python3.6/dist-packages/matplotlib/backends/backend_agg.py:183: RuntimeWarning: Glyph 45320 missing from current font.\n",
      "  font.set_text(s, 0, flags=flags)\n",
      "/usr/local/lib/python3.6/dist-packages/matplotlib/backends/backend_agg.py:183: RuntimeWarning: Glyph 47924 missing from current font.\n",
      "  font.set_text(s, 0, flags=flags)\n",
      "/usr/local/lib/python3.6/dist-packages/matplotlib/backends/backend_agg.py:183: RuntimeWarning: Glyph 51116 missing from current font.\n",
      "  font.set_text(s, 0, flags=flags)\n",
      "/usr/local/lib/python3.6/dist-packages/matplotlib/backends/backend_agg.py:183: RuntimeWarning: Glyph 48140 missing from current font.\n",
      "  font.set_text(s, 0, flags=flags)\n",
      "/usr/local/lib/python3.6/dist-packages/matplotlib/backends/backend_agg.py:183: RuntimeWarning: Glyph 51221 missing from current font.\n",
      "  font.set_text(s, 0, flags=flags)\n",
      "/usr/local/lib/python3.6/dist-packages/matplotlib/backends/backend_agg.py:183: RuntimeWarning: Glyph 47568 missing from current font.\n",
      "  font.set_text(s, 0, flags=flags)\n",
      "/usr/local/lib/python3.6/dist-packages/matplotlib/backends/backend_agg.py:183: RuntimeWarning: Glyph 44163 missing from current font.\n",
      "  font.set_text(s, 0, flags=flags)\n",
      "/usr/local/lib/python3.6/dist-packages/matplotlib/backends/backend_agg.py:183: RuntimeWarning: Glyph 46104 missing from current font.\n",
      "  font.set_text(s, 0, flags=flags)\n",
      "/usr/local/lib/python3.6/dist-packages/matplotlib/backends/backend_agg.py:183: RuntimeWarning: Glyph 51652 missing from current font.\n",
      "  font.set_text(s, 0, flags=flags)\n",
      "/usr/local/lib/python3.6/dist-packages/matplotlib/backends/backend_agg.py:183: RuntimeWarning: Glyph 51676 missing from current font.\n",
      "  font.set_text(s, 0, flags=flags)\n",
      "/usr/local/lib/python3.6/dist-packages/matplotlib/backends/backend_agg.py:183: RuntimeWarning: Glyph 44057 missing from current font.\n",
      "  font.set_text(s, 0, flags=flags)\n",
      "/usr/local/lib/python3.6/dist-packages/matplotlib/backends/backend_agg.py:183: RuntimeWarning: Glyph 51201 missing from current font.\n",
      "  font.set_text(s, 0, flags=flags)\n",
      "/usr/local/lib/python3.6/dist-packages/matplotlib/backends/backend_agg.py:183: RuntimeWarning: Glyph 51004 missing from current font.\n",
      "  font.set_text(s, 0, flags=flags)\n",
      "/usr/local/lib/python3.6/dist-packages/matplotlib/backends/backend_agg.py:183: RuntimeWarning: Glyph 47196 missing from current font.\n",
      "  font.set_text(s, 0, flags=flags)\n",
      "/usr/local/lib/python3.6/dist-packages/matplotlib/backends/backend_agg.py:183: RuntimeWarning: Glyph 51216 missing from current font.\n",
      "  font.set_text(s, 0, flags=flags)\n",
      "/usr/local/lib/python3.6/dist-packages/matplotlib/backends/backend_agg.py:183: RuntimeWarning: Glyph 50500 missing from current font.\n",
      "  font.set_text(s, 0, flags=flags)\n",
      "/usr/local/lib/python3.6/dist-packages/matplotlib/backends/backend_agg.py:183: RuntimeWarning: Glyph 45768 missing from current font.\n",
      "  font.set_text(s, 0, flags=flags)\n",
      "/usr/local/lib/python3.6/dist-packages/matplotlib/backends/backend_agg.py:183: RuntimeWarning: Glyph 50506 missing from current font.\n",
      "  font.set_text(s, 0, flags=flags)\n",
      "/usr/local/lib/python3.6/dist-packages/matplotlib/backends/backend_agg.py:183: RuntimeWarning: Glyph 49436 missing from current font.\n",
      "  font.set_text(s, 0, flags=flags)\n",
      "/usr/local/lib/python3.6/dist-packages/matplotlib/backends/backend_agg.py:183: RuntimeWarning: Glyph 47564 missing from current font.\n",
      "  font.set_text(s, 0, flags=flags)\n",
      "/usr/local/lib/python3.6/dist-packages/matplotlib/backends/backend_agg.py:183: RuntimeWarning: Glyph 50672 missing from current font.\n",
      "  font.set_text(s, 0, flags=flags)\n",
      "/usr/local/lib/python3.6/dist-packages/matplotlib/backends/backend_agg.py:183: RuntimeWarning: Glyph 44592 missing from current font.\n",
      "  font.set_text(s, 0, flags=flags)\n",
      "/usr/local/lib/python3.6/dist-packages/matplotlib/backends/backend_agg.py:183: RuntimeWarning: Glyph 45208 missing from current font.\n",
      "  font.set_text(s, 0, flags=flags)\n",
      "/usr/local/lib/python3.6/dist-packages/matplotlib/backends/backend_agg.py:183: RuntimeWarning: Glyph 50724 missing from current font.\n",
      "  font.set_text(s, 0, flags=flags)\n",
      "/usr/local/lib/python3.6/dist-packages/matplotlib/backends/backend_agg.py:183: RuntimeWarning: Glyph 54217 missing from current font.\n",
      "  font.set_text(s, 0, flags=flags)\n",
      "/usr/local/lib/python3.6/dist-packages/matplotlib/backends/backend_agg.py:183: RuntimeWarning: Glyph 44284 missing from current font.\n",
      "  font.set_text(s, 0, flags=flags)\n",
      "/usr/local/lib/python3.6/dist-packages/matplotlib/backends/backend_agg.py:183: RuntimeWarning: Glyph 52572 missing from current font.\n",
      "  font.set_text(s, 0, flags=flags)\n",
      "/usr/local/lib/python3.6/dist-packages/matplotlib/backends/backend_agg.py:183: RuntimeWarning: Glyph 44256 missing from current font.\n",
      "  font.set_text(s, 0, flags=flags)\n",
      "/usr/local/lib/python3.6/dist-packages/matplotlib/backends/backend_agg.py:183: RuntimeWarning: Glyph 54620 missing from current font.\n",
      "  font.set_text(s, 0, flags=flags)\n",
      "/usr/local/lib/python3.6/dist-packages/matplotlib/backends/backend_agg.py:183: RuntimeWarning: Glyph 50780 missing from current font.\n",
      "  font.set_text(s, 0, flags=flags)\n",
      "/usr/local/lib/python3.6/dist-packages/matplotlib/backends/backend_agg.py:183: RuntimeWarning: Glyph 49828 missing from current font.\n",
      "  font.set_text(s, 0, flags=flags)\n",
      "/usr/local/lib/python3.6/dist-packages/matplotlib/backends/backend_agg.py:183: RuntimeWarning: Glyph 53664 missing from current font.\n",
      "  font.set_text(s, 0, flags=flags)\n",
      "/usr/local/lib/python3.6/dist-packages/matplotlib/backends/backend_agg.py:183: RuntimeWarning: Glyph 47532 missing from current font.\n",
      "  font.set_text(s, 0, flags=flags)\n"
     ]
    },
    {
     "data": {
      "image/png": "[encoded data removed]",
      "text/plain": [
       "<Figure size 1440x720 with 1 Axes>"
      ]
     },
     "metadata": {
      "needs_background": "light",
      "tags": []
     },
     "output_type": "display_data"
    }
   ],
   "source": [
    "\n",
    "from matplotlib import font_manager, rc\n",
    "%matplotlib inline\n",
    "\n",
    "\n",
    "plt.figure(figsize=(20,10))\n",
    "text.plot(50)"
   ]
  },
  {
   "cell_type": "code",
   "execution_count": 0,
   "metadata": {
    "colab": {},
    "colab_type": "code",
    "id": "CUKEcdYSQUAu"
   },
   "outputs": [],
   "source": [
    "selected_words = [f[0] for f in text.vocab().most_common(10000)]\n",
    "\n",
    "def term_frequency(doc):\n",
    "    return [doc.count(word) for word in selected_words]\n",
    "\n",
    "train_x = [term_frequency(d) for d, _ in train_docs]\n",
    "test_x = [term_frequency(d) for d, _ in test_docs]\n",
    "train_y = [c for _, c in train_docs]\n",
    "test_y = [c for _, c in test_docs]"
   ]
  },
  {
   "cell_type": "code",
   "execution_count": 0,
   "metadata": {
    "colab": {},
    "colab_type": "code",
    "id": "zKtJEhJGQVu7"
   },
   "outputs": [],
   "source": [
    "import numpy as np\n",
    "\n",
    "x_train = np.asarray(train_x).astype('float32')\n",
    "x_test = np.asarray(test_x).astype('float32')\n",
    "\n",
    "y_train = np.asarray(train_y).astype('float32')\n",
    "y_test = np.asarray(test_y).astype('float32')"
   ]
  },
  {
   "cell_type": "code",
   "execution_count": 0,
   "metadata": {
    "colab": {
     "base_uri": "https://localhost:8080/",
     "height": 386
    },
    "colab_type": "code",
    "executionInfo": {
     "elapsed": 34000,
     "status": "ok",
     "timestamp": 1589131622009,
     "user": {
      "displayName": "_다혜",
      "photoUrl": "",
      "userId": "18431115278543745258"
     },
     "user_tz": -540
    },
    "id": "Zr-bWUk3Qa7N",
    "outputId": "d6498779-1375-45b1-b712-e7a6000fd251"
   },
   "outputs": [
    {
     "name": "stdout",
     "output_type": "stream",
     "text": [
      "Epoch 1/10\n",
      "293/293 [==============================] - 2s 8ms/step - loss: 0.3845 - binary_accuracy: 0.8347\n",
      "Epoch 2/10\n",
      "293/293 [==============================] - 2s 8ms/step - loss: 0.3130 - binary_accuracy: 0.8665\n",
      "Epoch 3/10\n",
      "293/293 [==============================] - 2s 8ms/step - loss: 0.2870 - binary_accuracy: 0.8809\n",
      "Epoch 4/10\n",
      "293/293 [==============================] - 2s 8ms/step - loss: 0.2659 - binary_accuracy: 0.8925\n",
      "Epoch 5/10\n",
      "293/293 [==============================] - 2s 8ms/step - loss: 0.2460 - binary_accuracy: 0.9025\n",
      "Epoch 6/10\n",
      "293/293 [==============================] - 2s 8ms/step - loss: 0.2268 - binary_accuracy: 0.9110\n",
      "Epoch 7/10\n",
      "293/293 [==============================] - 2s 8ms/step - loss: 0.2075 - binary_accuracy: 0.9198\n",
      "Epoch 8/10\n",
      "293/293 [==============================] - 2s 8ms/step - loss: 0.1895 - binary_accuracy: 0.9275\n",
      "Epoch 9/10\n",
      "293/293 [==============================] - 2s 8ms/step - loss: 0.1731 - binary_accuracy: 0.9345\n",
      "Epoch 10/10\n",
      "293/293 [==============================] - 2s 8ms/step - loss: 0.1588 - binary_accuracy: 0.9400\n",
      "1563/1563 [==============================] - 2s 1ms/step - loss: 0.4126 - binary_accuracy: 0.8535\n"
     ]
    }
   ],
   "source": [
    "from tensorflow.keras import models\n",
    "from tensorflow.keras import layers\n",
    "from tensorflow.keras import optimizers\n",
    "from tensorflow.keras import losses\n",
    "from tensorflow.keras import metrics\n",
    "\n",
    "model = models.Sequential()\n",
    "model.add(layers.Dense(64, activation='relu', input_shape=(10000,)))\n",
    "model.add(layers.Dense(64, activation='relu'))\n",
    "model.add(layers.Dense(1, activation='sigmoid'))\n",
    "\n",
    "model.compile(optimizer=optimizers.RMSprop(lr=0.001),\n",
    "             loss=losses.binary_crossentropy,\n",
    "             metrics=[metrics.binary_accuracy])\n",
    "\n",
    "model.fit(x_train, y_train, epochs=10, batch_size=512)\n",
    "results = model.evaluate(x_test, y_test)"
   ]
  },
  {
   "cell_type": "code",
   "execution_count": 0,
   "metadata": {
    "colab": {
     "base_uri": "https://localhost:8080/",
     "height": 34
    },
    "colab_type": "code",
    "executionInfo": {
     "elapsed": 533,
     "status": "ok",
     "timestamp": 1589131638179,
     "user": {
      "displayName": "_다혜",
      "photoUrl": "",
      "userId": "18431115278543745258"
     },
     "user_tz": -540
    },
    "id": "uvTbUwRcQcYU",
    "outputId": "c66213e3-a879-4cc9-8914-b337f067727b"
   },
   "outputs": [
    {
     "data": {
      "text/plain": [
       "[0.4126075506210327, 0.8534600138664246]"
      ]
     },
     "execution_count": 24,
     "metadata": {
      "tags": []
     },
     "output_type": "execute_result"
    }
   ],
   "source": [
    "results"
   ]
  },
  {
   "cell_type": "code",
   "execution_count": 0,
   "metadata": {
    "colab": {},
    "colab_type": "code",
    "id": "dDIwTUVTQdQN"
   },
   "outputs": [],
   "source": [
    "def predict_pos_neg(review):\n",
    "    token = tokenize(review)\n",
    "    tf = term_frequency(token)\n",
    "    data = np.expand_dims(np.asarray(tf).astype('float32'), axis=0)\n",
    "    score = float(model.predict(data))\n",
    "    result = score * 100\n",
    "    return result"
   ]
  },
  {
   "cell_type": "code",
   "execution_count": 0,
   "metadata": {
    "colab": {
     "base_uri": "https://localhost:8080/",
     "height": 34
    },
    "colab_type": "code",
    "executionInfo": {
     "elapsed": 518,
     "status": "ok",
     "timestamp": 1589131641167,
     "user": {
      "displayName": "_다혜",
      "photoUrl": "",
      "userId": "18431115278543745258"
     },
     "user_tz": -540
    },
    "id": "qqw-sTABk0qa",
    "outputId": "efa0c1b4-ddab-451e-867c-03222f2a2327"
   },
   "outputs": [
    {
     "data": {
      "text/plain": [
       "94.92377638816833"
      ]
     },
     "execution_count": 26,
     "metadata": {
      "tags": []
     },
     "output_type": "execute_result"
    }
   ],
   "source": [
    "predict_pos_neg('올해 최고의 영화!')"
   ]
  },
  {
   "cell_type": "code",
   "execution_count": 0,
   "metadata": {
    "colab": {},
    "colab_type": "code",
    "id": "q9X4N-kxlWq3"
   },
   "outputs": [],
   "source": [
    "import pandas as pd\n",
    "mydata = pd.read_excel('/gdrive/My Drive/Colab Notebooks/추가영화리뷰.xlsx')"
   ]
  },
  {
   "cell_type": "code",
   "execution_count": 0,
   "metadata": {
    "colab": {
     "base_uri": "https://localhost:8080/",
     "height": 195
    },
    "colab_type": "code",
    "executionInfo": {
     "elapsed": 586,
     "status": "ok",
     "timestamp": 1589131780009,
     "user": {
      "displayName": "_다혜",
      "photoUrl": "",
      "userId": "18431115278543745258"
     },
     "user_tz": -540
    },
    "id": "_K9zWmGimP0H",
    "outputId": "dd810d1f-0ec2-4f9d-d89f-58e40a60e640"
   },
   "outputs": [
    {
     "data": {
      "text/html": [
       "<div>\n",
       "<style scoped>\n",
       "    .dataframe tbody tr th:only-of-type {\n",
       "        vertical-align: middle;\n",
       "    }\n",
       "\n",
       "    .dataframe tbody tr th {\n",
       "        vertical-align: top;\n",
       "    }\n",
       "\n",
       "    .dataframe thead th {\n",
       "        text-align: right;\n",
       "    }\n",
       "</style>\n",
       "<table border=\"1\" class=\"dataframe\">\n",
       "  <thead>\n",
       "    <tr style=\"text-align: right;\">\n",
       "      <th></th>\n",
       "      <th>Movie</th>\n",
       "      <th>Review</th>\n",
       "      <th>Score</th>\n",
       "    </tr>\n",
       "  </thead>\n",
       "  <tbody>\n",
       "    <tr>\n",
       "      <th>0</th>\n",
       "      <td>사냥</td>\n",
       "      <td>적당한 스릴감과 긴장감 아주 자극적이지 않은 적절한 선을 유지한 느낌의 영화 최고의...</td>\n",
       "      <td>10</td>\n",
       "    </tr>\n",
       "    <tr>\n",
       "      <th>1</th>\n",
       "      <td>사냥</td>\n",
       "      <td>93분이라 흠</td>\n",
       "      <td>7</td>\n",
       "    </tr>\n",
       "    <tr>\n",
       "      <th>2</th>\n",
       "      <td>사냥</td>\n",
       "      <td>안성기 조진웅 손현주에 명량 최종병기 활 제작팀과의 합작품이면 재미는 보장된 듯 정...</td>\n",
       "      <td>10</td>\n",
       "    </tr>\n",
       "    <tr>\n",
       "      <th>3</th>\n",
       "      <td>사냥</td>\n",
       "      <td>재미있을 것 같아요</td>\n",
       "      <td>10</td>\n",
       "    </tr>\n",
       "    <tr>\n",
       "      <th>4</th>\n",
       "      <td>사냥</td>\n",
       "      <td>만들다 만 느낌</td>\n",
       "      <td>0</td>\n",
       "    </tr>\n",
       "  </tbody>\n",
       "</table>\n",
       "</div>"
      ],
      "text/plain": [
       "  Movie                                             Review  Score\n",
       "0    사냥  적당한 스릴감과 긴장감 아주 자극적이지 않은 적절한 선을 유지한 느낌의 영화 최고의...     10\n",
       "1    사냥                                            93분이라 흠      7\n",
       "2    사냥  안성기 조진웅 손현주에 명량 최종병기 활 제작팀과의 합작품이면 재미는 보장된 듯 정...     10\n",
       "3    사냥                                        재미있을 것 같아요      10\n",
       "4    사냥                                           만들다 만 느낌      0"
      ]
     },
     "execution_count": 29,
     "metadata": {
      "tags": []
     },
     "output_type": "execute_result"
    }
   ],
   "source": [
    "mydata.head()"
   ]
  },
  {
   "cell_type": "markdown",
   "metadata": {
    "colab_type": "text",
    "id": "cn93NJFeNP_s"
   },
   "source": []
  },
  {
   "cell_type": "code",
   "execution_count": 0,
   "metadata": {
    "colab": {
     "base_uri": "https://localhost:8080/",
     "height": 193
    },
    "colab_type": "code",
    "executionInfo": {
     "elapsed": 575,
     "status": "ok",
     "timestamp": 1589131786163,
     "user": {
      "displayName": "_다혜",
      "photoUrl": "",
      "userId": "18431115278543745258"
     },
     "user_tz": -540
    },
    "id": "RqfMRiAoMhXp",
    "outputId": "22e365a2-5f02-4c5c-ef72-a475e2cf3e24"
   },
   "outputs": [
    {
     "name": "stdout",
     "output_type": "stream",
     "text": [
      "<class 'pandas.core.frame.DataFrame'>\n",
      "RangeIndex: 2187 entries, 0 to 2186\n",
      "Data columns (total 3 columns):\n",
      " #   Column  Non-Null Count  Dtype \n",
      "---  ------  --------------  ----- \n",
      " 0   Movie   2187 non-null   object\n",
      " 1   Review  2187 non-null   object\n",
      " 2   Score   2187 non-null   int64 \n",
      "dtypes: int64(1), object(2)\n",
      "memory usage: 51.4+ KB\n"
     ]
    }
   ],
   "source": [
    "mydata.info()"
   ]
  },
  {
   "cell_type": "code",
   "execution_count": 0,
   "metadata": {
    "colab": {},
    "colab_type": "code",
    "id": "mVj8xm4EF_op"
   },
   "outputs": [],
   "source": [
    "def labeling_emotion_score(emotion_score):\n",
    "    emotion_score = float(emotion_score)\n",
    "    if emotion_score >= 80:\n",
    "      label = 5\n",
    "    elif emotion_score>=60 and emotion_score<80:\n",
    "      label = 4\n",
    "    elif emotion_score>=40 and emotion_score<60:\n",
    "      label = 3\n",
    "    elif emotion_score>=20 and emotion_score<40:\n",
    "      label = 2\n",
    "    else:\n",
    "      label = 1\n",
    "    return label\n",
    "  "
   ]
  },
  {
   "cell_type": "code",
   "execution_count": 0,
   "metadata": {
    "colab": {
     "base_uri": "https://localhost:8080/",
     "height": 70
    },
    "colab_type": "code",
    "executionInfo": {
     "elapsed": 15102,
     "status": "ok",
     "timestamp": 1589050914034,
     "user": {
      "displayName": "_다혜",
      "photoUrl": "",
      "userId": "18431115278543745258"
     },
     "user_tz": -540
    },
    "id": "VC4t5Fac0HG5",
    "outputId": "2c76c4b9-1651-4edc-dabd-659b38dc4692"
   },
   "outputs": [
    {
     "name": "stdout",
     "output_type": "stream",
     "text": [
      "openjdk version \"11.0.7\" 2020-04-14\n",
      "OpenJDK Runtime Environment (build 11.0.7+10-post-Ubuntu-2ubuntu218.04)\n",
      "OpenJDK 64-Bit Server VM (build 11.0.7+10-post-Ubuntu-2ubuntu218.04, mixed mode, sharing)\n"
     ]
    }
   ],
   "source": [
    "def install_java():\n",
    "  !apt-get install -y openjdk-8-jdk-headless -qq > /dev/null      #install openjdk\n",
    "  os.environ[\"JAVA_HOME\"] = \"/usr/lib/jvm/java-8-openjdk-amd64\"     #set environment variable\n",
    "  !java -version       #check java version\n",
    "install_java()"
   ]
  },
  {
   "cell_type": "code",
   "execution_count": 0,
   "metadata": {
    "colab": {
     "base_uri": "https://localhost:8080/",
     "height": 34
    },
    "colab_type": "code",
    "executionInfo": {
     "elapsed": 584,
     "status": "ok",
     "timestamp": 1589131811075,
     "user": {
      "displayName": "_다혜",
      "photoUrl": "",
      "userId": "18431115278543745258"
     },
     "user_tz": -540
    },
    "id": "aU1kp6ff33ZI",
    "outputId": "18d569df-c79e-4887-b6aa-5cea59967ebe"
   },
   "outputs": [
    {
     "data": {
      "text/plain": [
       "6.54"
      ]
     },
     "execution_count": 33,
     "metadata": {
      "tags": []
     },
     "output_type": "execute_result"
    }
   ],
   "source": [
    "round(predict_pos_neg(mydata['Review'][4]),2)"
   ]
  },
  {
   "cell_type": "code",
   "execution_count": 0,
   "metadata": {
    "colab": {},
    "colab_type": "code",
    "id": "98qMhVj5m5Vm"
   },
   "outputs": [],
   "source": [
    "score_list = []\n",
    "for i in range(0,2187):\n",
    "  try: \n",
    "    score_list.append(round(predict_pos_neg(mydata['Review'][i]),2))\n",
    "  except TypeError:\n",
    "    score_list.append(0)"
   ]
  },
  {
   "cell_type": "code",
   "execution_count": 0,
   "metadata": {
    "colab": {
     "base_uri": "https://localhost:8080/",
     "height": 34
    },
    "colab_type": "code",
    "executionInfo": {
     "elapsed": 610,
     "status": "ok",
     "timestamp": 1589132098545,
     "user": {
      "displayName": "_다혜",
      "photoUrl": "",
      "userId": "18431115278543745258"
     },
     "user_tz": -540
    },
    "id": "HxtsP1eU4dRz",
    "outputId": "3bddb1a7-66d1-4e9a-b4d2-c93df0badb9b"
   },
   "outputs": [
    {
     "name": "stdout",
     "output_type": "stream",
     "text": [
      "2187\n"
     ]
    }
   ],
   "source": [
    "print(len(score_list))"
   ]
  },
  {
   "cell_type": "code",
   "execution_count": 0,
   "metadata": {
    "colab": {},
    "colab_type": "code",
    "id": "HeskviGw86aO"
   },
   "outputs": [],
   "source": [
    "mydata['emotion_score'] = score_list"
   ]
  },
  {
   "cell_type": "code",
   "execution_count": 0,
   "metadata": {
    "colab": {
     "base_uri": "https://localhost:8080/",
     "height": 639
    },
    "colab_type": "code",
    "executionInfo": {
     "elapsed": 627,
     "status": "ok",
     "timestamp": 1589132131407,
     "user": {
      "displayName": "_다혜",
      "photoUrl": "",
      "userId": "18431115278543745258"
     },
     "user_tz": -540
    },
    "id": "EXwf1pdHoIDG",
    "outputId": "96b9b0e3-1672-48eb-edde-d0214a93fb20"
   },
   "outputs": [
    {
     "data": {
      "text/html": [
       "<div>\n",
       "<style scoped>\n",
       "    .dataframe tbody tr th:only-of-type {\n",
       "        vertical-align: middle;\n",
       "    }\n",
       "\n",
       "    .dataframe tbody tr th {\n",
       "        vertical-align: top;\n",
       "    }\n",
       "\n",
       "    .dataframe thead th {\n",
       "        text-align: right;\n",
       "    }\n",
       "</style>\n",
       "<table border=\"1\" class=\"dataframe\">\n",
       "  <thead>\n",
       "    <tr style=\"text-align: right;\">\n",
       "      <th></th>\n",
       "      <th>Movie</th>\n",
       "      <th>Review</th>\n",
       "      <th>Score</th>\n",
       "      <th>emotion_score</th>\n",
       "    </tr>\n",
       "  </thead>\n",
       "  <tbody>\n",
       "    <tr>\n",
       "      <th>0</th>\n",
       "      <td>사냥</td>\n",
       "      <td>적당한 스릴감과 긴장감 아주 자극적이지 않은 적절한 선을 유지한 느낌의 영화 최고의...</td>\n",
       "      <td>10</td>\n",
       "      <td>100.00</td>\n",
       "    </tr>\n",
       "    <tr>\n",
       "      <th>1</th>\n",
       "      <td>사냥</td>\n",
       "      <td>93분이라 흠</td>\n",
       "      <td>7</td>\n",
       "      <td>23.38</td>\n",
       "    </tr>\n",
       "    <tr>\n",
       "      <th>2</th>\n",
       "      <td>사냥</td>\n",
       "      <td>안성기 조진웅 손현주에 명량 최종병기 활 제작팀과의 합작품이면 재미는 보장된 듯 정...</td>\n",
       "      <td>10</td>\n",
       "      <td>62.11</td>\n",
       "    </tr>\n",
       "    <tr>\n",
       "      <th>3</th>\n",
       "      <td>사냥</td>\n",
       "      <td>재미있을 것 같아요</td>\n",
       "      <td>10</td>\n",
       "      <td>88.08</td>\n",
       "    </tr>\n",
       "    <tr>\n",
       "      <th>4</th>\n",
       "      <td>사냥</td>\n",
       "      <td>만들다 만 느낌</td>\n",
       "      <td>0</td>\n",
       "      <td>6.54</td>\n",
       "    </tr>\n",
       "    <tr>\n",
       "      <th>5</th>\n",
       "      <td>사냥</td>\n",
       "      <td>기대되네요 손현주 님  조진웅 님 마구마구 기대할게요</td>\n",
       "      <td>10</td>\n",
       "      <td>40.90</td>\n",
       "    </tr>\n",
       "    <tr>\n",
       "      <th>6</th>\n",
       "      <td>사냥</td>\n",
       "      <td>조진웅은 왜 잘생긴 척을 할까 그냥 예전 자연스럽고 갱스터 같은 모습이 좋던데  그...</td>\n",
       "      <td>2</td>\n",
       "      <td>95.95</td>\n",
       "    </tr>\n",
       "    <tr>\n",
       "      <th>7</th>\n",
       "      <td>사냥</td>\n",
       "      <td>벌써부터 기대 만방 꼭 볼 거임 좋아하는 배우 다 나옴</td>\n",
       "      <td>10</td>\n",
       "      <td>86.29</td>\n",
       "    </tr>\n",
       "    <tr>\n",
       "      <th>8</th>\n",
       "      <td>사냥</td>\n",
       "      <td>내가 좋아하는 배우 안성기 조진웅 보고 싶었는데 배급사가 롯데네 안 봐야지</td>\n",
       "      <td>0</td>\n",
       "      <td>73.55</td>\n",
       "    </tr>\n",
       "    <tr>\n",
       "      <th>9</th>\n",
       "      <td>사냥</td>\n",
       "      <td>영화 정말 기대됩니다 배우들 감 등 남들 최고 조합</td>\n",
       "      <td>10</td>\n",
       "      <td>99.79</td>\n",
       "    </tr>\n",
       "    <tr>\n",
       "      <th>10</th>\n",
       "      <td>사냥</td>\n",
       "      <td>영화도 보기 전에 내가 이해가 안 돼서 그러는데 산에서 금맥이 발견되고 산주인 아지...</td>\n",
       "      <td>7</td>\n",
       "      <td>78.00</td>\n",
       "    </tr>\n",
       "    <tr>\n",
       "      <th>11</th>\n",
       "      <td>사냥</td>\n",
       "      <td>정말 기대합니다</td>\n",
       "      <td>10</td>\n",
       "      <td>18.55</td>\n",
       "    </tr>\n",
       "    <tr>\n",
       "      <th>12</th>\n",
       "      <td>사냥</td>\n",
       "      <td>끝내 시나리오 안 돌려줬네 그 감독은 뭐 하지 배경이 90년댄가  왜 이리 예고가 ...</td>\n",
       "      <td>7</td>\n",
       "      <td>0.01</td>\n",
       "    </tr>\n",
       "    <tr>\n",
       "      <th>13</th>\n",
       "      <td>사냥</td>\n",
       "      <td>믿고 보는 배우님들이 모두 나오네요 정말 기대됩니다</td>\n",
       "      <td>10</td>\n",
       "      <td>95.48</td>\n",
       "    </tr>\n",
       "    <tr>\n",
       "      <th>14</th>\n",
       "      <td>사냥</td>\n",
       "      <td>기대 가득 대박</td>\n",
       "      <td>10</td>\n",
       "      <td>90.88</td>\n",
       "    </tr>\n",
       "    <tr>\n",
       "      <th>15</th>\n",
       "      <td>사냥</td>\n",
       "      <td>기대 기대됩니다</td>\n",
       "      <td>10</td>\n",
       "      <td>63.77</td>\n",
       "    </tr>\n",
       "    <tr>\n",
       "      <th>16</th>\n",
       "      <td>사냥</td>\n",
       "      <td>안성기 조진웅 완전 기대</td>\n",
       "      <td>10</td>\n",
       "      <td>83.36</td>\n",
       "    </tr>\n",
       "    <tr>\n",
       "      <th>17</th>\n",
       "      <td>아빠는 딸</td>\n",
       "      <td>예상되는 전개임에도 불구하고 웃게 만들고 울게 만드는 근래 본 영화 중에 제일 재밌...</td>\n",
       "      <td>10</td>\n",
       "      <td>99.98</td>\n",
       "    </tr>\n",
       "    <tr>\n",
       "      <th>18</th>\n",
       "      <td>아빠는 딸</td>\n",
       "      <td>너무 재미있음요 나는 어떤 딸이었는지 생각하게 하네요</td>\n",
       "      <td>7</td>\n",
       "      <td>95.96</td>\n",
       "    </tr>\n",
       "    <tr>\n",
       "      <th>19</th>\n",
       "      <td>아빠는 딸</td>\n",
       "      <td>고향에 계신 아빠 생각이 무지 났다 보고 나면 기분 좋아지는 영화</td>\n",
       "      <td>10</td>\n",
       "      <td>95.88</td>\n",
       "    </tr>\n",
       "  </tbody>\n",
       "</table>\n",
       "</div>"
      ],
      "text/plain": [
       "    Movie  ... emotion_score\n",
       "0      사냥  ...        100.00\n",
       "1      사냥  ...         23.38\n",
       "2      사냥  ...         62.11\n",
       "3      사냥  ...         88.08\n",
       "4      사냥  ...          6.54\n",
       "5      사냥  ...         40.90\n",
       "6      사냥  ...         95.95\n",
       "7      사냥  ...         86.29\n",
       "8      사냥  ...         73.55\n",
       "9      사냥  ...         99.79\n",
       "10     사냥  ...         78.00\n",
       "11     사냥  ...         18.55\n",
       "12     사냥  ...          0.01\n",
       "13     사냥  ...         95.48\n",
       "14     사냥  ...         90.88\n",
       "15     사냥  ...         63.77\n",
       "16     사냥  ...         83.36\n",
       "17  아빠는 딸  ...         99.98\n",
       "18  아빠는 딸  ...         95.96\n",
       "19  아빠는 딸  ...         95.88\n",
       "\n",
       "[20 rows x 4 columns]"
      ]
     },
     "execution_count": 39,
     "metadata": {
      "tags": []
     },
     "output_type": "execute_result"
    }
   ],
   "source": [
    "mydata.head(20)"
   ]
  },
  {
   "cell_type": "code",
   "execution_count": 0,
   "metadata": {
    "colab": {},
    "colab_type": "code",
    "id": "u22W7nQbD88f"
   },
   "outputs": [],
   "source": [
    "mydata['label'] = mydata['emotion_score'].apply(labeling_emotion_score)"
   ]
  },
  {
   "cell_type": "code",
   "execution_count": 0,
   "metadata": {
    "colab": {
     "base_uri": "https://localhost:8080/",
     "height": 343
    },
    "colab_type": "code",
    "executionInfo": {
     "elapsed": 614,
     "status": "ok",
     "timestamp": 1589132143677,
     "user": {
      "displayName": "_다혜",
      "photoUrl": "",
      "userId": "18431115278543745258"
     },
     "user_tz": -540
    },
    "id": "m6m1tyDoEhuK",
    "outputId": "03444773-e874-4955-c2cf-283110a730e4"
   },
   "outputs": [
    {
     "data": {
      "text/html": [
       "<div>\n",
       "<style scoped>\n",
       "    .dataframe tbody tr th:only-of-type {\n",
       "        vertical-align: middle;\n",
       "    }\n",
       "\n",
       "    .dataframe tbody tr th {\n",
       "        vertical-align: top;\n",
       "    }\n",
       "\n",
       "    .dataframe thead th {\n",
       "        text-align: right;\n",
       "    }\n",
       "</style>\n",
       "<table border=\"1\" class=\"dataframe\">\n",
       "  <thead>\n",
       "    <tr style=\"text-align: right;\">\n",
       "      <th></th>\n",
       "      <th>Movie</th>\n",
       "      <th>Review</th>\n",
       "      <th>Score</th>\n",
       "      <th>emotion_score</th>\n",
       "      <th>label</th>\n",
       "    </tr>\n",
       "  </thead>\n",
       "  <tbody>\n",
       "    <tr>\n",
       "      <th>0</th>\n",
       "      <td>사냥</td>\n",
       "      <td>적당한 스릴감과 긴장감 아주 자극적이지 않은 적절한 선을 유지한 느낌의 영화 최고의...</td>\n",
       "      <td>10</td>\n",
       "      <td>100.00</td>\n",
       "      <td>5</td>\n",
       "    </tr>\n",
       "    <tr>\n",
       "      <th>1</th>\n",
       "      <td>사냥</td>\n",
       "      <td>93분이라 흠</td>\n",
       "      <td>7</td>\n",
       "      <td>23.38</td>\n",
       "      <td>2</td>\n",
       "    </tr>\n",
       "    <tr>\n",
       "      <th>2</th>\n",
       "      <td>사냥</td>\n",
       "      <td>안성기 조진웅 손현주에 명량 최종병기 활 제작팀과의 합작품이면 재미는 보장된 듯 정...</td>\n",
       "      <td>10</td>\n",
       "      <td>62.11</td>\n",
       "      <td>4</td>\n",
       "    </tr>\n",
       "    <tr>\n",
       "      <th>3</th>\n",
       "      <td>사냥</td>\n",
       "      <td>재미있을 것 같아요</td>\n",
       "      <td>10</td>\n",
       "      <td>88.08</td>\n",
       "      <td>5</td>\n",
       "    </tr>\n",
       "    <tr>\n",
       "      <th>4</th>\n",
       "      <td>사냥</td>\n",
       "      <td>만들다 만 느낌</td>\n",
       "      <td>0</td>\n",
       "      <td>6.54</td>\n",
       "      <td>1</td>\n",
       "    </tr>\n",
       "    <tr>\n",
       "      <th>5</th>\n",
       "      <td>사냥</td>\n",
       "      <td>기대되네요 손현주 님  조진웅 님 마구마구 기대할게요</td>\n",
       "      <td>10</td>\n",
       "      <td>40.90</td>\n",
       "      <td>3</td>\n",
       "    </tr>\n",
       "    <tr>\n",
       "      <th>6</th>\n",
       "      <td>사냥</td>\n",
       "      <td>조진웅은 왜 잘생긴 척을 할까 그냥 예전 자연스럽고 갱스터 같은 모습이 좋던데  그...</td>\n",
       "      <td>2</td>\n",
       "      <td>95.95</td>\n",
       "      <td>5</td>\n",
       "    </tr>\n",
       "    <tr>\n",
       "      <th>7</th>\n",
       "      <td>사냥</td>\n",
       "      <td>벌써부터 기대 만방 꼭 볼 거임 좋아하는 배우 다 나옴</td>\n",
       "      <td>10</td>\n",
       "      <td>86.29</td>\n",
       "      <td>5</td>\n",
       "    </tr>\n",
       "    <tr>\n",
       "      <th>8</th>\n",
       "      <td>사냥</td>\n",
       "      <td>내가 좋아하는 배우 안성기 조진웅 보고 싶었는데 배급사가 롯데네 안 봐야지</td>\n",
       "      <td>0</td>\n",
       "      <td>73.55</td>\n",
       "      <td>4</td>\n",
       "    </tr>\n",
       "    <tr>\n",
       "      <th>9</th>\n",
       "      <td>사냥</td>\n",
       "      <td>영화 정말 기대됩니다 배우들 감 등 남들 최고 조합</td>\n",
       "      <td>10</td>\n",
       "      <td>99.79</td>\n",
       "      <td>5</td>\n",
       "    </tr>\n",
       "  </tbody>\n",
       "</table>\n",
       "</div>"
      ],
      "text/plain": [
       "  Movie  ... label\n",
       "0    사냥  ...     5\n",
       "1    사냥  ...     2\n",
       "2    사냥  ...     4\n",
       "3    사냥  ...     5\n",
       "4    사냥  ...     1\n",
       "5    사냥  ...     3\n",
       "6    사냥  ...     5\n",
       "7    사냥  ...     5\n",
       "8    사냥  ...     4\n",
       "9    사냥  ...     5\n",
       "\n",
       "[10 rows x 5 columns]"
      ]
     },
     "execution_count": 41,
     "metadata": {
      "tags": []
     },
     "output_type": "execute_result"
    }
   ],
   "source": [
    "mydata.head(10)"
   ]
  },
  {
   "cell_type": "code",
   "execution_count": 0,
   "metadata": {
    "colab": {},
    "colab_type": "code",
    "id": "81-Mxy79nnyC"
   },
   "outputs": [],
   "source": [
    "from google.colab import files\n",
    "\n",
    "mydata.to_csv('movie_review_score_2.csv', encoding='cp949')\n",
    "files.download('movie_review_score_2.csv')"
   ]
  }
 ],
 "metadata": {
  "accelerator": "TPU",
  "colab": {
   "collapsed_sections": [],
   "machine_shape": "hm",
   "name": "논문감정분석모델.ipynb",
   "provenance": []
  },
  "kernelspec": {
   "display_name": "Python 3",
   "language": "python",
   "name": "python3"
  },
  "language_info": {
   "codemirror_mode": {
    "name": "ipython",
    "version": 3
   },
   "file_extension": ".py",
   "mimetype": "text/x-python",
   "name": "python",
   "nbconvert_exporter": "python",
   "pygments_lexer": "ipython3",
   "version": "3.8.5"
  }
 },
 "nbformat": 4,
 "nbformat_minor": 1
}
